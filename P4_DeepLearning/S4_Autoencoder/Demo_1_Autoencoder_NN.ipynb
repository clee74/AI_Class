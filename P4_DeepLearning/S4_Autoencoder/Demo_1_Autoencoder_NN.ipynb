{
 "cells": [
  {
   "cell_type": "markdown",
   "metadata": {},
   "source": [
    "# Demo 1: Autoencoder\n",
    "\n",
    "This demo we will demo code for how to implement and train autoencoders and apply the autoencoder to solve the binary classification problem:\n",
    "\n",
    "-   Binary Classification Problem: Surface defect binary classification (defect and non-defect)\n",
    "-   Dataset:\n",
    "-   Library packages:\n",
    "    -   Numpy (Numpy arrays are very fast and can perform large computations in a very short time)\n",
    "    -   PIL (Simple image processing package: read, show, resize,...)\n",
    "    -   Matplotlib (Plot package: visualize result,....)\n",
    "    -   TensorFlow (This is an open-source library that is used for DL/ML/AI)\n",
    "    -   Scikit-Learn (Machine Learning models: KNN,SVM,Decision Tree, Metrics,...) \n",
    "\n",
    "Tasks Outlines:\n",
    "## 0. Task 0: Preparing dataset:\n",
    "## 1. Task 1: Constructing autoencoder model by using TensorFlow library:\n",
    "-   Constructing the Encoder component\n",
    "-   Constructing the Decoder component\n",
    "## 2. Task 2: Training model\n",
    "-   Loss function\n",
    "-   Optimizers\n",
    "-   Augmentation\n",
    "## 3. Task 3: Evaluating the performance of trained model\n",
    "-   Perform trained model on test image\n",
    "-   How to apply it for Surface Defect Binary Classification\n",
    "*******************************************************************\n"
   ]
  },
  {
   "cell_type": "markdown",
   "metadata": {},
   "source": [
    "## Import all packages"
   ]
  },
  {
   "cell_type": "code",
   "execution_count": 35,
   "metadata": {},
   "outputs": [],
   "source": [
    "import os\n",
    "from PIL import Image\n",
    "import numpy as np\n",
    "from matplotlib import pyplot as plt\n",
    "\n",
    "import tensorflow as tf\n",
    "from tensorflow import keras\n",
    "from keras.callbacks import EarlyStopping\n",
    "from keras.callbacks import ModelCheckpoint\n",
    "from keras.callbacks import ReduceLROnPlateau\n",
    "from keras.utils import to_categorical\n",
    "from keras.preprocessing.image import ImageDataGenerator\n",
    "\n",
    "from sklearn.model_selection import train_test_split\n",
    "from sklearn import metrics"
   ]
  },
  {
   "cell_type": "markdown",
   "metadata": {},
   "source": [
    "## 0. Task 0: Preparing"
   ]
  },
  {
   "cell_type": "markdown",
   "metadata": {},
   "source": [
    "### 0.1. Define a function get all paths to each image in the dataset for training"
   ]
  },
  {
   "cell_type": "code",
   "execution_count": 2,
   "metadata": {},
   "outputs": [],
   "source": [
    "def get_all_img_label_path(input_dir:str,\n",
    "                            img_suffix = '.jpg')->(list,list):\n",
    "    \"\"\"\n",
    "    parameters:\n",
    "    -   input_dir: the directory to the data folder\n",
    "    -   img_suffix: siffix type of image in the data folder to read\n",
    "    output: a tuple of two lists:\n",
    "    -   List of all path to each image in the data folder\n",
    "    \"\"\"\n",
    "    list_img_paths = []\n",
    "    for root,dirs,files in os.walk(input_dir):\n",
    "        for file in files:\n",
    "            file_name,file_suffix = os.path.splitext(file)\n",
    "            if file_suffix == img_suffix:\n",
    "                list_img_paths.append(os.path.join(root,file))\n",
    "    return list_img_paths\n",
    "\n",
    "\n"
   ]
  },
  {
   "cell_type": "markdown",
   "metadata": {},
   "source": [
    "### 0.2. Define a function to get all image array and its class label (which are in type np.array)\n",
    "In this function we also resize the all image to the same new size = (width, height)"
   ]
  },
  {
   "cell_type": "code",
   "execution_count": 3,
   "metadata": {},
   "outputs": [],
   "source": [
    "# Resize the image to small dimensional of width and height\n",
    "def get_data(list_img_paths:list,\n",
    "             is_resize:bool = True,\n",
    "             width:int = 28,\n",
    "             height:int = 28,\n",
    "             n_channel:int = 1) -> (np.array):\n",
    "    \"\"\"\n",
    "    Parameters:\n",
    "    -   list_img_paths: List of all paths to image in the data folder\n",
    "    -   is_resize: Default is True means resize all image in the dataset\n",
    "        to the new size (width,height)\n",
    "    -   width: The width size which we want to resize to\n",
    "    -   height: The height size which we want to resize to\n",
    "\n",
    "    Output: A tuple of two arrays\n",
    "    -   data_array with shape (N,h,w), where\n",
    "        -   N is the number of image\n",
    "        -   h is the height\n",
    "        -   w is the width\n",
    "    \"\"\"\n",
    "    data = []\n",
    "    for i in range(len(list_img_paths)):\n",
    "        path_img = list_img_paths[i]\n",
    "        img = Image.open(path_img)\n",
    "        if n_channel == 1:\n",
    "            img = img.convert('L')\n",
    "        if is_resize:\n",
    "            img = img.resize(size = (width,height),\n",
    "                            resample=Image.BICUBIC)\n",
    "        data.append(np.array(img))\n",
    "    return np.array(data)"
   ]
  },
  {
   "cell_type": "markdown",
   "metadata": {},
   "source": [
    "### 0.3. Getting data by using two previouse function"
   ]
  },
  {
   "cell_type": "code",
   "execution_count": 4,
   "metadata": {},
   "outputs": [],
   "source": [
    "# Get the list of all path to images, and the list of relative truth labels\n",
    "dir_data_train = \"/Users/user/Victor2023/Dataset/Dataset_heatsink/test/0\"\n",
    "dir_data_train = \"/Users/user/Victor2023/Dataset/Data_gen\"\n",
    "list_img_paths = get_all_img_label_path(input_dir=dir_data_train,\n",
    "                                                    img_suffix='.jpg')\n",
    "\n",
    "width = 128\n",
    "height = 128\n",
    "n_channel = 1\n",
    "X = get_data(list_img_paths=list_img_paths,\n",
    "               is_resize=True,\n",
    "               width=width,\n",
    "               height=height,\n",
    "               n_channel=n_channel)\n",
    "\n",
    "# Get the total number of test samples we have:\n",
    "n_samples = X.shape[0]\n",
    "# Reshaping \n",
    "X = X.reshape(n_samples,height,width,1)\n",
    "# Change type value and scaling value\n",
    "X = X.astype('float32')\n",
    "X /= 255.0\n",
    "n_train = int(n_samples*80/100)\n",
    "X_train = X[:n_train]\n",
    "X_val = X[n_train:]"
   ]
  },
  {
   "cell_type": "markdown",
   "metadata": {},
   "source": [
    "## 1. Task 1: Constructing Autoencoder Model"
   ]
  },
  {
   "cell_type": "markdown",
   "metadata": {},
   "source": [
    "### 1.1. Define the encoder component"
   ]
  },
  {
   "cell_type": "code",
   "execution_count": 5,
   "metadata": {},
   "outputs": [
    {
     "name": "stderr",
     "output_type": "stream",
     "text": [
      "2023-12-15 10:42:56.940039: I tensorflow/core/platform/cpu_feature_guard.cc:193] This TensorFlow binary is optimized with oneAPI Deep Neural Network Library (oneDNN) to use the following CPU instructions in performance-critical operations:  SSE4.1 SSE4.2 AVX AVX2 FMA\n",
      "To enable them in other operations, rebuild TensorFlow with the appropriate compiler flags.\n"
     ]
    }
   ],
   "source": [
    "# Define the input shape\n",
    "en_input = keras.layers.Input(shape=(height,width,n_channel)) \n",
    "encode = keras.layers.Conv2D(32,(5,5),activation=\"relu\",padding='same')(en_input)\n",
    "encode = keras.layers.MaxPool2D((2,2),padding=\"same\")(encode)\n",
    "encode = keras.layers.Conv2D(32,(3,3),activation=\"relu\",padding=\"same\")(encode)\n",
    "encode = keras.layers.MaxPool2D((2,2),padding=\"same\")(encode)\n",
    "# Getting the shape under convolutional layers\n",
    "conv_out_shape = keras.backend.int_shape(encode)\n",
    "encode = keras.layers.Flatten()(encode)\n",
    "encode = keras.layers.Dense(128,activation=\"relu\")(encode)\n",
    "en_output = keras.layers.Dense(32,activation=\"relu\")(encode)\n",
    "\n",
    "encoder_component = keras.Model(en_input,en_output,name=\"Encoder\")"
   ]
  },
  {
   "cell_type": "markdown",
   "metadata": {},
   "source": [
    "### 1.2. Define the decoder component"
   ]
  },
  {
   "cell_type": "code",
   "execution_count": 6,
   "metadata": {},
   "outputs": [],
   "source": [
    "de_input = keras.layers.Input(shape=(32,))\n",
    "decode = keras.layers.Dense(128,activation=\"relu\")(de_input)\n",
    "decode = keras.layers.Dense(np.prod(conv_out_shape[1:]))(decode)\n",
    "decode = keras.layers.Reshape((conv_out_shape[1],conv_out_shape[2],conv_out_shape[3]))(decode)\n",
    "decode = keras.layers.Conv2DTranspose(32,(3,3),\n",
    "                                      strides=2,\n",
    "                                      activation=\"relu\",\n",
    "                                      padding=\"same\")(decode)\n",
    "decode = keras.layers.Conv2DTranspose(32,(5,5),\n",
    "                                      strides=2,\n",
    "                                      activation=\"relu\",\n",
    "                                      padding=\"same\")(decode)\n",
    "de_output = keras.layers.Conv2D(1,(3,3),\n",
    "                                activation=\"sigmoid\",\n",
    "                                padding=\"same\")(decode)\n",
    "decoder_component = keras.Model(de_input,de_output,name=\"Decoder\")\n"
   ]
  },
  {
   "cell_type": "markdown",
   "metadata": {},
   "source": [
    "### 1.3. Combine two components to obtain the autoencoder model"
   ]
  },
  {
   "cell_type": "code",
   "execution_count": 7,
   "metadata": {},
   "outputs": [],
   "source": [
    "model_autoencoder = keras.Model(en_input,\n",
    "                                decoder_component(encoder_component(en_input)),\n",
    "                                name = \"Autoencoder\")"
   ]
  },
  {
   "cell_type": "code",
   "execution_count": 8,
   "metadata": {},
   "outputs": [
    {
     "name": "stdout",
     "output_type": "stream",
     "text": [
      "Model: \"Encoder\"\n",
      "_________________________________________________________________\n",
      " Layer (type)                Output Shape              Param #   \n",
      "=================================================================\n",
      " input_1 (InputLayer)        [(None, 128, 128, 1)]     0         \n",
      "                                                                 \n",
      " conv2d (Conv2D)             (None, 128, 128, 32)      832       \n",
      "                                                                 \n",
      " max_pooling2d (MaxPooling2D  (None, 64, 64, 32)       0         \n",
      " )                                                               \n",
      "                                                                 \n",
      " conv2d_1 (Conv2D)           (None, 64, 64, 32)        9248      \n",
      "                                                                 \n",
      " max_pooling2d_1 (MaxPooling  (None, 32, 32, 32)       0         \n",
      " 2D)                                                             \n",
      "                                                                 \n",
      " flatten (Flatten)           (None, 32768)             0         \n",
      "                                                                 \n",
      " dense (Dense)               (None, 128)               4194432   \n",
      "                                                                 \n",
      " dense_1 (Dense)             (None, 32)                4128      \n",
      "                                                                 \n",
      "=================================================================\n",
      "Total params: 4,208,640\n",
      "Trainable params: 4,208,640\n",
      "Non-trainable params: 0\n",
      "_________________________________________________________________\n"
     ]
    }
   ],
   "source": [
    "encoder_component.summary()"
   ]
  },
  {
   "cell_type": "code",
   "execution_count": 9,
   "metadata": {},
   "outputs": [
    {
     "name": "stdout",
     "output_type": "stream",
     "text": [
      "Model: \"Decoder\"\n",
      "_________________________________________________________________\n",
      " Layer (type)                Output Shape              Param #   \n",
      "=================================================================\n",
      " input_2 (InputLayer)        [(None, 32)]              0         \n",
      "                                                                 \n",
      " dense_2 (Dense)             (None, 128)               4224      \n",
      "                                                                 \n",
      " dense_3 (Dense)             (None, 32768)             4227072   \n",
      "                                                                 \n",
      " reshape (Reshape)           (None, 32, 32, 32)        0         \n",
      "                                                                 \n",
      " conv2d_transpose (Conv2DTra  (None, 64, 64, 32)       9248      \n",
      " nspose)                                                         \n",
      "                                                                 \n",
      " conv2d_transpose_1 (Conv2DT  (None, 128, 128, 32)     25632     \n",
      " ranspose)                                                       \n",
      "                                                                 \n",
      " conv2d_2 (Conv2D)           (None, 128, 128, 1)       289       \n",
      "                                                                 \n",
      "=================================================================\n",
      "Total params: 4,266,465\n",
      "Trainable params: 4,266,465\n",
      "Non-trainable params: 0\n",
      "_________________________________________________________________\n"
     ]
    }
   ],
   "source": [
    "decoder_component.summary()"
   ]
  },
  {
   "cell_type": "code",
   "execution_count": 10,
   "metadata": {},
   "outputs": [
    {
     "name": "stdout",
     "output_type": "stream",
     "text": [
      "Model: \"Autoencoder\"\n",
      "_________________________________________________________________\n",
      " Layer (type)                Output Shape              Param #   \n",
      "=================================================================\n",
      " input_1 (InputLayer)        [(None, 128, 128, 1)]     0         \n",
      "                                                                 \n",
      " Encoder (Functional)        (None, 32)                4208640   \n",
      "                                                                 \n",
      " Decoder (Functional)        (None, 128, 128, 1)       4266465   \n",
      "                                                                 \n",
      "=================================================================\n",
      "Total params: 8,475,105\n",
      "Trainable params: 8,475,105\n",
      "Non-trainable params: 0\n",
      "_________________________________________________________________\n"
     ]
    }
   ],
   "source": [
    "model_autoencoder.summary()"
   ]
  },
  {
   "cell_type": "markdown",
   "metadata": {},
   "source": [
    "## 2. Task 2: Training model"
   ]
  },
  {
   "cell_type": "markdown",
   "metadata": {},
   "source": [
    "### 2.1. Define the loss function and optimizer"
   ]
  },
  {
   "cell_type": "code",
   "execution_count": 50,
   "metadata": {},
   "outputs": [
    {
     "name": "stdout",
     "output_type": "stream",
     "text": [
      "WARNING:tensorflow:`epsilon` argument is deprecated and will be removed, use `min_delta` instead.\n"
     ]
    }
   ],
   "source": [
    "loss = keras.losses.categorical_crossentropy\n",
    "optimizer = keras.optimizers.Adam()\n",
    "es = EarlyStopping(monitor=\"val_loss\",\n",
    "                   mode='min',\n",
    "                   verbose=1,\n",
    "                   patience=30)\n",
    "mc = ModelCheckpoint('trained_model_best.h5',\n",
    "                     monitor='val_loss',\n",
    "                     mode='min',\n",
    "                     verbose=1,\n",
    "                     save_best_only=True)\n",
    "reduce_lr = ReduceLROnPlateau(monitor='val_loss',\n",
    "                              factor=0.1,\n",
    "                              patience=30,\n",
    "                              verbose=1,\n",
    "                              epsilon=1e-4,\n",
    "                              mode='min')\n",
    "# Loss functtion\n",
    "def ssim_loss(y_true, y_pred):\n",
    "  return 1-tf.reduce_mean(tf.image.ssim(y_true, y_pred, 1.0))\n",
    "\n",
    "model_autoencoder.compile(loss = \"mse\",\n",
    "                          optimizer = optimizer)\n"
   ]
  },
  {
   "cell_type": "markdown",
   "metadata": {},
   "source": [
    "### 2.2. Define the training datagenerator"
   ]
  },
  {
   "cell_type": "code",
   "execution_count": 13,
   "metadata": {},
   "outputs": [],
   "source": [
    "train_datagen= ImageDataGenerator(rotation_range=8,\n",
    "                                     width_shift_range=0.08,\n",
    "                                     shear_range=0.3,\n",
    "                                     height_shift_range=0.08,\n",
    "                                     zoom_range=0.08,\n",
    "                                     horizontal_flip=True,\n",
    "                                     fill_mode='nearest'\n",
    "                                     )\n",
    "validation_datagen = ImageDataGenerator()\n",
    "train_generator = train_datagen.flow(x = X_train, \n",
    "                                     y = X_train, \n",
    "                                     )\n",
    "val_generator = validation_datagen.flow(x = X_val,\n",
    "                                        y = X_val)"
   ]
  },
  {
   "cell_type": "code",
   "execution_count": 51,
   "metadata": {},
   "outputs": [
    {
     "name": "stdout",
     "output_type": "stream",
     "text": [
      "Epoch 1/200\n",
      "3/3 [==============================] - ETA: 0s - loss: 0.3444\n",
      "Epoch 1: val_loss improved from inf to 0.35453, saving model to trained_model_best.h5\n",
      "3/3 [==============================] - 5s 1s/step - loss: 0.3444 - val_loss: 0.3545 - lr: 0.0010\n",
      "Epoch 2/200\n",
      "3/3 [==============================] - ETA: 0s - loss: 0.3444\n",
      "Epoch 2: val_loss did not improve from 0.35453\n",
      "3/3 [==============================] - 3s 1s/step - loss: 0.3444 - val_loss: 0.3545 - lr: 0.0010\n",
      "Epoch 3/200\n",
      "3/3 [==============================] - ETA: 0s - loss: 0.3444\n",
      "Epoch 3: val_loss did not improve from 0.35453\n",
      "3/3 [==============================] - 4s 1s/step - loss: 0.3444 - val_loss: 0.3545 - lr: 0.0010\n",
      "Epoch 4/200\n",
      "3/3 [==============================] - ETA: 0s - loss: 0.3444\n",
      "Epoch 4: val_loss did not improve from 0.35453\n",
      "3/3 [==============================] - 3s 999ms/step - loss: 0.3444 - val_loss: 0.3545 - lr: 0.0010\n",
      "Epoch 5/200\n",
      "3/3 [==============================] - ETA: 0s - loss: 0.3444\n",
      "Epoch 5: val_loss did not improve from 0.35453\n",
      "3/3 [==============================] - 4s 1s/step - loss: 0.3444 - val_loss: 0.3545 - lr: 0.0010\n",
      "Epoch 6/200\n",
      "3/3 [==============================] - ETA: 0s - loss: 0.3444\n",
      "Epoch 6: val_loss did not improve from 0.35453\n",
      "3/3 [==============================] - 3s 1s/step - loss: 0.3444 - val_loss: 0.3545 - lr: 0.0010\n",
      "Epoch 7/200\n",
      "3/3 [==============================] - ETA: 0s - loss: 0.3444\n",
      "Epoch 7: val_loss did not improve from 0.35453\n",
      "3/3 [==============================] - 3s 930ms/step - loss: 0.3444 - val_loss: 0.3545 - lr: 0.0010\n",
      "Epoch 8/200\n",
      "3/3 [==============================] - ETA: 0s - loss: 0.3444\n",
      "Epoch 8: val_loss did not improve from 0.35453\n",
      "3/3 [==============================] - 3s 1s/step - loss: 0.3444 - val_loss: 0.3545 - lr: 0.0010\n",
      "Epoch 9/200\n",
      "3/3 [==============================] - ETA: 0s - loss: 0.3444\n",
      "Epoch 9: val_loss did not improve from 0.35453\n",
      "3/3 [==============================] - 4s 1s/step - loss: 0.3444 - val_loss: 0.3545 - lr: 0.0010\n",
      "Epoch 10/200\n",
      "3/3 [==============================] - ETA: 0s - loss: 0.3444\n",
      "Epoch 10: val_loss did not improve from 0.35453\n",
      "3/3 [==============================] - 4s 2s/step - loss: 0.3444 - val_loss: 0.3545 - lr: 0.0010\n",
      "Epoch 11/200\n",
      "3/3 [==============================] - ETA: 0s - loss: 0.3444\n",
      "Epoch 11: val_loss did not improve from 0.35453\n",
      "3/3 [==============================] - 3s 1s/step - loss: 0.3444 - val_loss: 0.3545 - lr: 0.0010\n",
      "Epoch 12/200\n",
      "3/3 [==============================] - ETA: 0s - loss: 0.3444\n",
      "Epoch 12: val_loss did not improve from 0.35453\n",
      "3/3 [==============================] - 4s 1s/step - loss: 0.3444 - val_loss: 0.3545 - lr: 0.0010\n",
      "Epoch 13/200\n",
      "3/3 [==============================] - ETA: 0s - loss: 0.3444\n",
      "Epoch 13: val_loss did not improve from 0.35453\n",
      "3/3 [==============================] - 4s 1s/step - loss: 0.3444 - val_loss: 0.3545 - lr: 0.0010\n",
      "Epoch 14/200\n",
      "3/3 [==============================] - ETA: 0s - loss: 0.3444\n",
      "Epoch 14: val_loss did not improve from 0.35453\n",
      "3/3 [==============================] - 4s 1s/step - loss: 0.3444 - val_loss: 0.3545 - lr: 0.0010\n",
      "Epoch 15/200\n",
      "3/3 [==============================] - ETA: 0s - loss: 0.3444\n",
      "Epoch 15: val_loss did not improve from 0.35453\n",
      "3/3 [==============================] - 4s 1s/step - loss: 0.3444 - val_loss: 0.3545 - lr: 0.0010\n",
      "Epoch 16/200\n",
      "3/3 [==============================] - ETA: 0s - loss: 0.3444\n",
      "Epoch 16: val_loss did not improve from 0.35453\n",
      "3/3 [==============================] - 4s 1s/step - loss: 0.3444 - val_loss: 0.3545 - lr: 0.0010\n",
      "Epoch 17/200\n"
     ]
    },
    {
     "ename": "KeyboardInterrupt",
     "evalue": "",
     "output_type": "error",
     "traceback": [
      "\u001b[0;31m---------------------------------------------------------------------------\u001b[0m",
      "\u001b[0;31mKeyboardInterrupt\u001b[0m                         Traceback (most recent call last)",
      "Cell \u001b[0;32mIn[51], line 1\u001b[0m\n\u001b[0;32m----> 1\u001b[0m history \u001b[38;5;241m=\u001b[39m \u001b[43mmodel_autoencoder\u001b[49m\u001b[38;5;241;43m.\u001b[39;49m\u001b[43mfit\u001b[49m\u001b[43m(\u001b[49m\u001b[43mX_train\u001b[49m\u001b[43m,\u001b[49m\u001b[43mX_train\u001b[49m\u001b[43m,\u001b[49m\n\u001b[1;32m      2\u001b[0m \u001b[43m                                \u001b[49m\u001b[43mepochs\u001b[49m\u001b[38;5;241;43m=\u001b[39;49m\u001b[38;5;241;43m200\u001b[39;49m\u001b[43m,\u001b[49m\n\u001b[1;32m      3\u001b[0m \u001b[43m                                \u001b[49m\u001b[43mverbose\u001b[49m\u001b[38;5;241;43m=\u001b[39;49m\u001b[38;5;241;43m1\u001b[39;49m\u001b[43m,\u001b[49m\n\u001b[1;32m      4\u001b[0m \u001b[43m                                \u001b[49m\u001b[43mvalidation_data\u001b[49m\u001b[38;5;241;43m=\u001b[39;49m\u001b[43m(\u001b[49m\u001b[43mX_val\u001b[49m\u001b[43m,\u001b[49m\u001b[43mX_val\u001b[49m\u001b[43m)\u001b[49m\u001b[43m,\u001b[49m\n\u001b[1;32m      5\u001b[0m \u001b[43m                                \u001b[49m\u001b[43muse_multiprocessing\u001b[49m\u001b[38;5;241;43m=\u001b[39;49m\u001b[38;5;28;43;01mFalse\u001b[39;49;00m\u001b[43m,\u001b[49m\n\u001b[1;32m      6\u001b[0m \u001b[43m                                \u001b[49m\u001b[43mcallbacks\u001b[49m\u001b[43m \u001b[49m\u001b[38;5;241;43m=\u001b[39;49m\u001b[43m \u001b[49m\u001b[43m[\u001b[49m\u001b[43mes\u001b[49m\u001b[43m,\u001b[49m\u001b[43mmc\u001b[49m\u001b[43m,\u001b[49m\u001b[43mreduce_lr\u001b[49m\u001b[43m]\u001b[49m\n\u001b[1;32m      7\u001b[0m \u001b[43m                                \u001b[49m\u001b[43m)\u001b[49m\n",
      "File \u001b[0;32m~/anaconda3/envs/ASINK_Demo/lib/python3.10/site-packages/keras/utils/traceback_utils.py:65\u001b[0m, in \u001b[0;36mfilter_traceback.<locals>.error_handler\u001b[0;34m(*args, **kwargs)\u001b[0m\n\u001b[1;32m     63\u001b[0m filtered_tb \u001b[38;5;241m=\u001b[39m \u001b[38;5;28;01mNone\u001b[39;00m\n\u001b[1;32m     64\u001b[0m \u001b[38;5;28;01mtry\u001b[39;00m:\n\u001b[0;32m---> 65\u001b[0m     \u001b[38;5;28;01mreturn\u001b[39;00m \u001b[43mfn\u001b[49m\u001b[43m(\u001b[49m\u001b[38;5;241;43m*\u001b[39;49m\u001b[43margs\u001b[49m\u001b[43m,\u001b[49m\u001b[43m \u001b[49m\u001b[38;5;241;43m*\u001b[39;49m\u001b[38;5;241;43m*\u001b[39;49m\u001b[43mkwargs\u001b[49m\u001b[43m)\u001b[49m\n\u001b[1;32m     66\u001b[0m \u001b[38;5;28;01mexcept\u001b[39;00m \u001b[38;5;167;01mException\u001b[39;00m \u001b[38;5;28;01mas\u001b[39;00m e:\n\u001b[1;32m     67\u001b[0m     filtered_tb \u001b[38;5;241m=\u001b[39m _process_traceback_frames(e\u001b[38;5;241m.\u001b[39m__traceback__)\n",
      "File \u001b[0;32m~/anaconda3/envs/ASINK_Demo/lib/python3.10/site-packages/keras/engine/training.py:1564\u001b[0m, in \u001b[0;36mModel.fit\u001b[0;34m(self, x, y, batch_size, epochs, verbose, callbacks, validation_split, validation_data, shuffle, class_weight, sample_weight, initial_epoch, steps_per_epoch, validation_steps, validation_batch_size, validation_freq, max_queue_size, workers, use_multiprocessing)\u001b[0m\n\u001b[1;32m   1556\u001b[0m \u001b[38;5;28;01mwith\u001b[39;00m tf\u001b[38;5;241m.\u001b[39mprofiler\u001b[38;5;241m.\u001b[39mexperimental\u001b[38;5;241m.\u001b[39mTrace(\n\u001b[1;32m   1557\u001b[0m     \u001b[38;5;124m\"\u001b[39m\u001b[38;5;124mtrain\u001b[39m\u001b[38;5;124m\"\u001b[39m,\n\u001b[1;32m   1558\u001b[0m     epoch_num\u001b[38;5;241m=\u001b[39mepoch,\n\u001b[0;32m   (...)\u001b[0m\n\u001b[1;32m   1561\u001b[0m     _r\u001b[38;5;241m=\u001b[39m\u001b[38;5;241m1\u001b[39m,\n\u001b[1;32m   1562\u001b[0m ):\n\u001b[1;32m   1563\u001b[0m     callbacks\u001b[38;5;241m.\u001b[39mon_train_batch_begin(step)\n\u001b[0;32m-> 1564\u001b[0m     tmp_logs \u001b[38;5;241m=\u001b[39m \u001b[38;5;28;43mself\u001b[39;49m\u001b[38;5;241;43m.\u001b[39;49m\u001b[43mtrain_function\u001b[49m\u001b[43m(\u001b[49m\u001b[43miterator\u001b[49m\u001b[43m)\u001b[49m\n\u001b[1;32m   1565\u001b[0m     \u001b[38;5;28;01mif\u001b[39;00m data_handler\u001b[38;5;241m.\u001b[39mshould_sync:\n\u001b[1;32m   1566\u001b[0m         context\u001b[38;5;241m.\u001b[39masync_wait()\n",
      "File \u001b[0;32m~/anaconda3/envs/ASINK_Demo/lib/python3.10/site-packages/tensorflow/python/util/traceback_utils.py:150\u001b[0m, in \u001b[0;36mfilter_traceback.<locals>.error_handler\u001b[0;34m(*args, **kwargs)\u001b[0m\n\u001b[1;32m    148\u001b[0m filtered_tb \u001b[38;5;241m=\u001b[39m \u001b[38;5;28;01mNone\u001b[39;00m\n\u001b[1;32m    149\u001b[0m \u001b[38;5;28;01mtry\u001b[39;00m:\n\u001b[0;32m--> 150\u001b[0m   \u001b[38;5;28;01mreturn\u001b[39;00m \u001b[43mfn\u001b[49m\u001b[43m(\u001b[49m\u001b[38;5;241;43m*\u001b[39;49m\u001b[43margs\u001b[49m\u001b[43m,\u001b[49m\u001b[43m \u001b[49m\u001b[38;5;241;43m*\u001b[39;49m\u001b[38;5;241;43m*\u001b[39;49m\u001b[43mkwargs\u001b[49m\u001b[43m)\u001b[49m\n\u001b[1;32m    151\u001b[0m \u001b[38;5;28;01mexcept\u001b[39;00m \u001b[38;5;167;01mException\u001b[39;00m \u001b[38;5;28;01mas\u001b[39;00m e:\n\u001b[1;32m    152\u001b[0m   filtered_tb \u001b[38;5;241m=\u001b[39m _process_traceback_frames(e\u001b[38;5;241m.\u001b[39m__traceback__)\n",
      "File \u001b[0;32m~/anaconda3/envs/ASINK_Demo/lib/python3.10/site-packages/tensorflow/python/eager/def_function.py:915\u001b[0m, in \u001b[0;36mFunction.__call__\u001b[0;34m(self, *args, **kwds)\u001b[0m\n\u001b[1;32m    912\u001b[0m compiler \u001b[38;5;241m=\u001b[39m \u001b[38;5;124m\"\u001b[39m\u001b[38;5;124mxla\u001b[39m\u001b[38;5;124m\"\u001b[39m \u001b[38;5;28;01mif\u001b[39;00m \u001b[38;5;28mself\u001b[39m\u001b[38;5;241m.\u001b[39m_jit_compile \u001b[38;5;28;01melse\u001b[39;00m \u001b[38;5;124m\"\u001b[39m\u001b[38;5;124mnonXla\u001b[39m\u001b[38;5;124m\"\u001b[39m\n\u001b[1;32m    914\u001b[0m \u001b[38;5;28;01mwith\u001b[39;00m OptionalXlaContext(\u001b[38;5;28mself\u001b[39m\u001b[38;5;241m.\u001b[39m_jit_compile):\n\u001b[0;32m--> 915\u001b[0m   result \u001b[38;5;241m=\u001b[39m \u001b[38;5;28;43mself\u001b[39;49m\u001b[38;5;241;43m.\u001b[39;49m\u001b[43m_call\u001b[49m\u001b[43m(\u001b[49m\u001b[38;5;241;43m*\u001b[39;49m\u001b[43margs\u001b[49m\u001b[43m,\u001b[49m\u001b[43m \u001b[49m\u001b[38;5;241;43m*\u001b[39;49m\u001b[38;5;241;43m*\u001b[39;49m\u001b[43mkwds\u001b[49m\u001b[43m)\u001b[49m\n\u001b[1;32m    917\u001b[0m new_tracing_count \u001b[38;5;241m=\u001b[39m \u001b[38;5;28mself\u001b[39m\u001b[38;5;241m.\u001b[39mexperimental_get_tracing_count()\n\u001b[1;32m    918\u001b[0m without_tracing \u001b[38;5;241m=\u001b[39m (tracing_count \u001b[38;5;241m==\u001b[39m new_tracing_count)\n",
      "File \u001b[0;32m~/anaconda3/envs/ASINK_Demo/lib/python3.10/site-packages/tensorflow/python/eager/def_function.py:947\u001b[0m, in \u001b[0;36mFunction._call\u001b[0;34m(self, *args, **kwds)\u001b[0m\n\u001b[1;32m    944\u001b[0m   \u001b[38;5;28mself\u001b[39m\u001b[38;5;241m.\u001b[39m_lock\u001b[38;5;241m.\u001b[39mrelease()\n\u001b[1;32m    945\u001b[0m   \u001b[38;5;66;03m# In this case we have created variables on the first call, so we run the\u001b[39;00m\n\u001b[1;32m    946\u001b[0m   \u001b[38;5;66;03m# defunned version which is guaranteed to never create variables.\u001b[39;00m\n\u001b[0;32m--> 947\u001b[0m   \u001b[38;5;28;01mreturn\u001b[39;00m \u001b[38;5;28;43mself\u001b[39;49m\u001b[38;5;241;43m.\u001b[39;49m\u001b[43m_stateless_fn\u001b[49m\u001b[43m(\u001b[49m\u001b[38;5;241;43m*\u001b[39;49m\u001b[43margs\u001b[49m\u001b[43m,\u001b[49m\u001b[43m \u001b[49m\u001b[38;5;241;43m*\u001b[39;49m\u001b[38;5;241;43m*\u001b[39;49m\u001b[43mkwds\u001b[49m\u001b[43m)\u001b[49m  \u001b[38;5;66;03m# pylint: disable=not-callable\u001b[39;00m\n\u001b[1;32m    948\u001b[0m \u001b[38;5;28;01melif\u001b[39;00m \u001b[38;5;28mself\u001b[39m\u001b[38;5;241m.\u001b[39m_stateful_fn \u001b[38;5;129;01mis\u001b[39;00m \u001b[38;5;129;01mnot\u001b[39;00m \u001b[38;5;28;01mNone\u001b[39;00m:\n\u001b[1;32m    949\u001b[0m   \u001b[38;5;66;03m# Release the lock early so that multiple threads can perform the call\u001b[39;00m\n\u001b[1;32m    950\u001b[0m   \u001b[38;5;66;03m# in parallel.\u001b[39;00m\n\u001b[1;32m    951\u001b[0m   \u001b[38;5;28mself\u001b[39m\u001b[38;5;241m.\u001b[39m_lock\u001b[38;5;241m.\u001b[39mrelease()\n",
      "File \u001b[0;32m~/anaconda3/envs/ASINK_Demo/lib/python3.10/site-packages/tensorflow/python/eager/function.py:2496\u001b[0m, in \u001b[0;36mFunction.__call__\u001b[0;34m(self, *args, **kwargs)\u001b[0m\n\u001b[1;32m   2493\u001b[0m \u001b[38;5;28;01mwith\u001b[39;00m \u001b[38;5;28mself\u001b[39m\u001b[38;5;241m.\u001b[39m_lock:\n\u001b[1;32m   2494\u001b[0m   (graph_function,\n\u001b[1;32m   2495\u001b[0m    filtered_flat_args) \u001b[38;5;241m=\u001b[39m \u001b[38;5;28mself\u001b[39m\u001b[38;5;241m.\u001b[39m_maybe_define_function(args, kwargs)\n\u001b[0;32m-> 2496\u001b[0m \u001b[38;5;28;01mreturn\u001b[39;00m \u001b[43mgraph_function\u001b[49m\u001b[38;5;241;43m.\u001b[39;49m\u001b[43m_call_flat\u001b[49m\u001b[43m(\u001b[49m\n\u001b[1;32m   2497\u001b[0m \u001b[43m    \u001b[49m\u001b[43mfiltered_flat_args\u001b[49m\u001b[43m,\u001b[49m\u001b[43m \u001b[49m\u001b[43mcaptured_inputs\u001b[49m\u001b[38;5;241;43m=\u001b[39;49m\u001b[43mgraph_function\u001b[49m\u001b[38;5;241;43m.\u001b[39;49m\u001b[43mcaptured_inputs\u001b[49m\u001b[43m)\u001b[49m\n",
      "File \u001b[0;32m~/anaconda3/envs/ASINK_Demo/lib/python3.10/site-packages/tensorflow/python/eager/function.py:1862\u001b[0m, in \u001b[0;36mConcreteFunction._call_flat\u001b[0;34m(self, args, captured_inputs, cancellation_manager)\u001b[0m\n\u001b[1;32m   1858\u001b[0m possible_gradient_type \u001b[38;5;241m=\u001b[39m gradients_util\u001b[38;5;241m.\u001b[39mPossibleTapeGradientTypes(args)\n\u001b[1;32m   1859\u001b[0m \u001b[38;5;28;01mif\u001b[39;00m (possible_gradient_type \u001b[38;5;241m==\u001b[39m gradients_util\u001b[38;5;241m.\u001b[39mPOSSIBLE_GRADIENT_TYPES_NONE\n\u001b[1;32m   1860\u001b[0m     \u001b[38;5;129;01mand\u001b[39;00m executing_eagerly):\n\u001b[1;32m   1861\u001b[0m   \u001b[38;5;66;03m# No tape is watching; skip to running the function.\u001b[39;00m\n\u001b[0;32m-> 1862\u001b[0m   \u001b[38;5;28;01mreturn\u001b[39;00m \u001b[38;5;28mself\u001b[39m\u001b[38;5;241m.\u001b[39m_build_call_outputs(\u001b[38;5;28;43mself\u001b[39;49m\u001b[38;5;241;43m.\u001b[39;49m\u001b[43m_inference_function\u001b[49m\u001b[38;5;241;43m.\u001b[39;49m\u001b[43mcall\u001b[49m\u001b[43m(\u001b[49m\n\u001b[1;32m   1863\u001b[0m \u001b[43m      \u001b[49m\u001b[43mctx\u001b[49m\u001b[43m,\u001b[49m\u001b[43m \u001b[49m\u001b[43margs\u001b[49m\u001b[43m,\u001b[49m\u001b[43m \u001b[49m\u001b[43mcancellation_manager\u001b[49m\u001b[38;5;241;43m=\u001b[39;49m\u001b[43mcancellation_manager\u001b[49m\u001b[43m)\u001b[49m)\n\u001b[1;32m   1864\u001b[0m forward_backward \u001b[38;5;241m=\u001b[39m \u001b[38;5;28mself\u001b[39m\u001b[38;5;241m.\u001b[39m_select_forward_and_backward_functions(\n\u001b[1;32m   1865\u001b[0m     args,\n\u001b[1;32m   1866\u001b[0m     possible_gradient_type,\n\u001b[1;32m   1867\u001b[0m     executing_eagerly)\n\u001b[1;32m   1868\u001b[0m forward_function, args_with_tangents \u001b[38;5;241m=\u001b[39m forward_backward\u001b[38;5;241m.\u001b[39mforward()\n",
      "File \u001b[0;32m~/anaconda3/envs/ASINK_Demo/lib/python3.10/site-packages/tensorflow/python/eager/function.py:499\u001b[0m, in \u001b[0;36m_EagerDefinedFunction.call\u001b[0;34m(self, ctx, args, cancellation_manager)\u001b[0m\n\u001b[1;32m    497\u001b[0m \u001b[38;5;28;01mwith\u001b[39;00m _InterpolateFunctionError(\u001b[38;5;28mself\u001b[39m):\n\u001b[1;32m    498\u001b[0m   \u001b[38;5;28;01mif\u001b[39;00m cancellation_manager \u001b[38;5;129;01mis\u001b[39;00m \u001b[38;5;28;01mNone\u001b[39;00m:\n\u001b[0;32m--> 499\u001b[0m     outputs \u001b[38;5;241m=\u001b[39m \u001b[43mexecute\u001b[49m\u001b[38;5;241;43m.\u001b[39;49m\u001b[43mexecute\u001b[49m\u001b[43m(\u001b[49m\n\u001b[1;32m    500\u001b[0m \u001b[43m        \u001b[49m\u001b[38;5;28;43mstr\u001b[39;49m\u001b[43m(\u001b[49m\u001b[38;5;28;43mself\u001b[39;49m\u001b[38;5;241;43m.\u001b[39;49m\u001b[43msignature\u001b[49m\u001b[38;5;241;43m.\u001b[39;49m\u001b[43mname\u001b[49m\u001b[43m)\u001b[49m\u001b[43m,\u001b[49m\n\u001b[1;32m    501\u001b[0m \u001b[43m        \u001b[49m\u001b[43mnum_outputs\u001b[49m\u001b[38;5;241;43m=\u001b[39;49m\u001b[38;5;28;43mself\u001b[39;49m\u001b[38;5;241;43m.\u001b[39;49m\u001b[43m_num_outputs\u001b[49m\u001b[43m,\u001b[49m\n\u001b[1;32m    502\u001b[0m \u001b[43m        \u001b[49m\u001b[43minputs\u001b[49m\u001b[38;5;241;43m=\u001b[39;49m\u001b[43margs\u001b[49m\u001b[43m,\u001b[49m\n\u001b[1;32m    503\u001b[0m \u001b[43m        \u001b[49m\u001b[43mattrs\u001b[49m\u001b[38;5;241;43m=\u001b[39;49m\u001b[43mattrs\u001b[49m\u001b[43m,\u001b[49m\n\u001b[1;32m    504\u001b[0m \u001b[43m        \u001b[49m\u001b[43mctx\u001b[49m\u001b[38;5;241;43m=\u001b[39;49m\u001b[43mctx\u001b[49m\u001b[43m)\u001b[49m\n\u001b[1;32m    505\u001b[0m   \u001b[38;5;28;01melse\u001b[39;00m:\n\u001b[1;32m    506\u001b[0m     outputs \u001b[38;5;241m=\u001b[39m execute\u001b[38;5;241m.\u001b[39mexecute_with_cancellation(\n\u001b[1;32m    507\u001b[0m         \u001b[38;5;28mstr\u001b[39m(\u001b[38;5;28mself\u001b[39m\u001b[38;5;241m.\u001b[39msignature\u001b[38;5;241m.\u001b[39mname),\n\u001b[1;32m    508\u001b[0m         num_outputs\u001b[38;5;241m=\u001b[39m\u001b[38;5;28mself\u001b[39m\u001b[38;5;241m.\u001b[39m_num_outputs,\n\u001b[0;32m   (...)\u001b[0m\n\u001b[1;32m    511\u001b[0m         ctx\u001b[38;5;241m=\u001b[39mctx,\n\u001b[1;32m    512\u001b[0m         cancellation_manager\u001b[38;5;241m=\u001b[39mcancellation_manager)\n",
      "File \u001b[0;32m~/anaconda3/envs/ASINK_Demo/lib/python3.10/site-packages/tensorflow/python/eager/execute.py:54\u001b[0m, in \u001b[0;36mquick_execute\u001b[0;34m(op_name, num_outputs, inputs, attrs, ctx, name)\u001b[0m\n\u001b[1;32m     52\u001b[0m \u001b[38;5;28;01mtry\u001b[39;00m:\n\u001b[1;32m     53\u001b[0m   ctx\u001b[38;5;241m.\u001b[39mensure_initialized()\n\u001b[0;32m---> 54\u001b[0m   tensors \u001b[38;5;241m=\u001b[39m \u001b[43mpywrap_tfe\u001b[49m\u001b[38;5;241;43m.\u001b[39;49m\u001b[43mTFE_Py_Execute\u001b[49m\u001b[43m(\u001b[49m\u001b[43mctx\u001b[49m\u001b[38;5;241;43m.\u001b[39;49m\u001b[43m_handle\u001b[49m\u001b[43m,\u001b[49m\u001b[43m \u001b[49m\u001b[43mdevice_name\u001b[49m\u001b[43m,\u001b[49m\u001b[43m \u001b[49m\u001b[43mop_name\u001b[49m\u001b[43m,\u001b[49m\n\u001b[1;32m     55\u001b[0m \u001b[43m                                      \u001b[49m\u001b[43minputs\u001b[49m\u001b[43m,\u001b[49m\u001b[43m \u001b[49m\u001b[43mattrs\u001b[49m\u001b[43m,\u001b[49m\u001b[43m \u001b[49m\u001b[43mnum_outputs\u001b[49m\u001b[43m)\u001b[49m\n\u001b[1;32m     56\u001b[0m \u001b[38;5;28;01mexcept\u001b[39;00m core\u001b[38;5;241m.\u001b[39m_NotOkStatusException \u001b[38;5;28;01mas\u001b[39;00m e:\n\u001b[1;32m     57\u001b[0m   \u001b[38;5;28;01mif\u001b[39;00m name \u001b[38;5;129;01mis\u001b[39;00m \u001b[38;5;129;01mnot\u001b[39;00m \u001b[38;5;28;01mNone\u001b[39;00m:\n",
      "\u001b[0;31mKeyboardInterrupt\u001b[0m: "
     ]
    }
   ],
   "source": [
    "history = model_autoencoder.fit(X_train,X_train,\n",
    "                                epochs=200,\n",
    "                                verbose=1,\n",
    "                                validation_data=(X_val,X_val),\n",
    "                                use_multiprocessing=False,\n",
    "                                callbacks = [es,mc,reduce_lr]\n",
    "                                )"
   ]
  },
  {
   "cell_type": "code",
   "execution_count": 47,
   "metadata": {},
   "outputs": [],
   "source": [
    "decode_val = model_autoencoder(X_val)"
   ]
  },
  {
   "cell_type": "code",
   "execution_count": 48,
   "metadata": {},
   "outputs": [
    {
     "name": "stdout",
     "output_type": "stream",
     "text": [
      "(22, 128, 128, 1)\n"
     ]
    }
   ],
   "source": [
    "print(decode_val.shape)"
   ]
  },
  {
   "cell_type": "code",
   "execution_count": 49,
   "metadata": {},
   "outputs": [
    {
     "name": "stdout",
     "output_type": "stream",
     "text": [
      "tf.Tensor(\n",
      "[[[1.]\n",
      "  [1.]\n",
      "  [1.]\n",
      "  ...\n",
      "  [1.]\n",
      "  [1.]\n",
      "  [1.]]\n",
      "\n",
      " [[1.]\n",
      "  [1.]\n",
      "  [1.]\n",
      "  ...\n",
      "  [1.]\n",
      "  [1.]\n",
      "  [1.]]\n",
      "\n",
      " [[1.]\n",
      "  [1.]\n",
      "  [1.]\n",
      "  ...\n",
      "  [1.]\n",
      "  [1.]\n",
      "  [1.]]\n",
      "\n",
      " ...\n",
      "\n",
      " [[1.]\n",
      "  [1.]\n",
      "  [1.]\n",
      "  ...\n",
      "  [1.]\n",
      "  [1.]\n",
      "  [1.]]\n",
      "\n",
      " [[1.]\n",
      "  [1.]\n",
      "  [1.]\n",
      "  ...\n",
      "  [1.]\n",
      "  [1.]\n",
      "  [1.]]\n",
      "\n",
      " [[1.]\n",
      "  [1.]\n",
      "  [1.]\n",
      "  ...\n",
      "  [1.]\n",
      "  [1.]\n",
      "  [1.]]], shape=(128, 128, 1), dtype=float32)\n"
     ]
    }
   ],
   "source": [
    "print(decode_val[0])"
   ]
  },
  {
   "cell_type": "code",
   "execution_count": 44,
   "metadata": {},
   "outputs": [
    {
     "data": {
      "image/png": "[encoded data removed]",
      "text/plain": [
       "<Figure size 1000x500 with 4 Axes>"
      ]
     },
     "metadata": {},
     "output_type": "display_data"
    }
   ],
   "source": [
    "# Visualize the first 30 test samples and show their predicted digit value in the title.\n",
    "_,axes = plt.subplots(nrows = 2,ncols = 2, figsize= (10,5))\n",
    "for r in range(2):\n",
    "    axes[r,0].set_axis_off()\n",
    "    axes[r,1].set_axis_off()\n",
    "    img_val = X_val[r+5].reshape((width,height))\n",
    "    pred_val = np.array(decode_val[r+5]).reshape((width,height))\n",
    "    axes[r,0].imshow(img_val, cmap='gray', interpolation = \"nearest\")\n",
    "    axes[r,1].imshow(pred_val,cmap = 'gray',  interpolation = \"nearest\")"
   ]
  }
 ],
 "metadata": {
  "kernelspec": {
   "display_name": "ASINK_Demo",
   "language": "python",
   "name": "python3"
  },
  "language_info": {
   "codemirror_mode": {
    "name": "ipython",
    "version": 3
   },
   "file_extension": ".py",
   "mimetype": "text/x-python",
   "name": "python",
   "nbconvert_exporter": "python",
   "pygments_lexer": "ipython3",
   "version": "3.10.8"
  }
 },
 "nbformat": 4,
 "nbformat_minor": 2
}

{
 "cells": [
  {
   "cell_type": "markdown",
   "metadata": {},
   "source": [
    "# Demo 1: Autoencoder\n",
    "\n",
    "This demo we will demo code for how to implement and train autoencoders and apply the autoencoder to solve the binary classification problem:\n",
    "\n",
    "-   Binary Classification Problem: Surface defect binary classification (defect and non-defect)\n",
    "-   Dataset:\n",
    "-   Library packages:\n",
    "    -   Numpy (Numpy arrays are very fast and can perform large computations in a very short time)\n",
    "    -   PIL (Simple image processing package: read, show, resize,...)\n",
    "    -   Matplotlib (Plot package: visualize result,....)\n",
    "    -   TensorFlow (This is an open-source library that is used for DL/ML/AI)\n",
    "    -   Scikit-Learn (Machine Learning models: KNN,SVM,Decision Tree, Metrics,...) \n",
    "\n",
    "Tasks Outlines:\n",
    "## 0. Task 0: Preparing dataset:\n",
    "## 1. Task 1: Constructing autoencoder model by using TensorFlow library:\n",
    "-   Constructing the Encoder component\n",
    "-   Constructing the Decoder component\n",
    "## 2. Task 2: Training model\n",
    "-   Loss function\n",
    "-   Optimizers\n",
    "-   Augmentation\n",
    "## 3. Task 3: Evaluating the performance of trained model\n",
    "-   Perform trained model on test image\n",
    "-   How to apply it for Surface Defect Binary Classification\n",
    "*******************************************************************\n"
   ]
  },
  {
   "cell_type": "markdown",
   "metadata": {},
   "source": [
    "## Import all packages"
   ]
  },
  {
   "cell_type": "code",
   "execution_count": 15,
   "metadata": {},
   "outputs": [],
   "source": [
    "import os\n",
    "from PIL import Image\n",
    "import numpy as np\n",
    "from matplotlib import pyplot as plt\n",
    "\n",
    "from tensorflow import keras\n",
    "from keras.callbacks import EarlyStopping\n",
    "from keras.callbacks import ModelCheckpoint\n",
    "from keras.callbacks import ReduceLROnPlateau\n",
    "from keras.utils import to_categorical\n",
    "from keras.preprocessing.image import ImageDataGenerator\n",
    "\n",
    "from sklearn.model_selection import train_test_split\n",
    "from sklearn import metrics"
   ]
  },
  {
   "cell_type": "markdown",
   "metadata": {},
   "source": [
    "## 0. Task 0: Preparing"
   ]
  },
  {
   "cell_type": "markdown",
   "metadata": {},
   "source": [
    "### 0.1. Define a function get all paths to each image in the dataset for training"
   ]
  },
  {
   "cell_type": "code",
   "execution_count": 16,
   "metadata": {},
   "outputs": [],
   "source": [
    "def get_all_img_label_path(input_dir:str,\n",
    "                            img_suffix = '.jpg')->(list,list):\n",
    "    \"\"\"\n",
    "    parameters:\n",
    "    -   input_dir: the directory to the data folder\n",
    "    -   img_suffix: siffix type of image in the data folder to read\n",
    "    output: a tuple of two lists:\n",
    "    -   List of all path to each image in the data folder\n",
    "    \"\"\"\n",
    "    list_img_paths = []\n",
    "    for root,dirs,files in os.walk(input_dir):\n",
    "        for file in files:\n",
    "            file_name,file_suffix = os.path.splitext(file)\n",
    "            if file_suffix == img_suffix:\n",
    "                list_img_paths.append(os.path.join(root,file))\n",
    "    return list_img_paths\n",
    "\n",
    "\n"
   ]
  },
  {
   "cell_type": "markdown",
   "metadata": {},
   "source": [
    "### 0.2. Define a function to get all image array and its class label (which are in type np.array)\n",
    "In this function we also resize the all image to the same new size = (width, height)"
   ]
  },
  {
   "cell_type": "code",
   "execution_count": 17,
   "metadata": {},
   "outputs": [],
   "source": [
    "# Resize the image to small dimensional of width and height\n",
    "def get_data(list_img_paths:list,\n",
    "             is_resize:bool = True,\n",
    "             width:int = 28,\n",
    "             height:int = 28,\n",
    "             n_channel:int = 1) -> (np.array):\n",
    "    \"\"\"\n",
    "    Parameters:\n",
    "    -   list_img_paths: List of all paths to image in the data folder\n",
    "    -   is_resize: Default is True means resize all image in the dataset\n",
    "        to the new size (width,height)\n",
    "    -   width: The width size which we want to resize to\n",
    "    -   height: The height size which we want to resize to\n",
    "\n",
    "    Output: A tuple of two arrays\n",
    "    -   data_array with shape (N,h,w), where\n",
    "        -   N is the number of image\n",
    "        -   h is the height\n",
    "        -   w is the width\n",
    "    \"\"\"\n",
    "    data = []\n",
    "    for i in range(len(list_img_paths)):\n",
    "        path_img = list_img_paths[i]\n",
    "        img = Image.open(path_img)\n",
    "        if n_channel == 1:\n",
    "            img = img.convert('L')\n",
    "        if is_resize:\n",
    "            img = img.resize(size = (width,height),\n",
    "                            resample=Image.BICUBIC)\n",
    "        data.append(np.array(img))\n",
    "    return np.array(data)"
   ]
  },
  {
   "cell_type": "markdown",
   "metadata": {},
   "source": [
    "### 0.3. Getting data by using two previouse function"
   ]
  },
  {
   "cell_type": "code",
   "execution_count": 19,
   "metadata": {},
   "outputs": [],
   "source": [
    "# Get the list of all path to images, and the list of relative truth labels\n",
    "dir_data_train = \"/Users/user/Victor2023/Dataset/Dataset_heatsink/test/0\"\n",
    "list_img_paths = get_all_img_label_path(input_dir=dir_data_train,\n",
    "                                                    img_suffix='.jpg')\n",
    "\n",
    "width = 128\n",
    "height = 128\n",
    "n_channel = 1\n",
    "X = get_data(list_img_paths=list_img_paths,\n",
    "               is_resize=True,\n",
    "               width=width,\n",
    "               height=height,\n",
    "               n_channel=n_channel)\n",
    "\n",
    "# Get the total number of test samples we have:\n",
    "n_samples = X.shape[0]\n",
    "# Reshaping \n",
    "X = X.reshape(n_samples,height,width,1)\n",
    "# Change type value and scaling value\n",
    "X = X.astype('float32')\n",
    "X /= 255.0\n",
    "n_train = int(n_samples*80/100)\n",
    "X_train = X[:n_train]\n",
    "X_val = X[n_train:]"
   ]
  },
  {
   "cell_type": "markdown",
   "metadata": {},
   "source": [
    "## 1. Task 1: Constructing Autoencoder Model"
   ]
  },
  {
   "cell_type": "markdown",
   "metadata": {},
   "source": [
    "### 1.1. Define the encoder component"
   ]
  },
  {
   "cell_type": "code",
   "execution_count": 20,
   "metadata": {},
   "outputs": [],
   "source": [
    "# Define the input shape\n",
    "en_input = keras.layers.Input(shape=(height,width,n_channel)) \n",
    "encode = keras.layers.Conv2D(32,(5,5),activation=\"relu\",padding='same')(en_input)\n",
    "encode = keras.layers.MaxPool2D((2,2),padding=\"same\")(encode)\n",
    "encode = keras.layers.Conv2D(32,(3,3),activation=\"relu\",padding=\"same\")(encode)\n",
    "encode = keras.layers.MaxPool2D((2,2),padding=\"same\")(encode)\n",
    "# Getting the shape under convolutional layers\n",
    "conv_out_shape = keras.backend.int_shape(encode)\n",
    "encode = keras.layers.Flatten()(encode)\n",
    "encode = keras.layers.Dense(128,activation=\"relu\")(encode)\n",
    "en_output = keras.layers.Dense(32,activation=\"relu\")(encode)\n",
    "\n",
    "encoder_component = keras.Model(en_input,en_output,name=\"Encoder\")"
   ]
  },
  {
   "cell_type": "markdown",
   "metadata": {},
   "source": [
    "### 1.2. Define the decoder component"
   ]
  },
  {
   "cell_type": "code",
   "execution_count": 21,
   "metadata": {},
   "outputs": [],
   "source": [
    "de_input = keras.layers.Input(shape=(32,))\n",
    "decode = keras.layers.Dense(128,activation=\"relu\")(de_input)\n",
    "decode = keras.layers.Dense(np.prod(conv_out_shape[1:]))(decode)\n",
    "decode = keras.layers.Reshape((conv_out_shape[1],conv_out_shape[2],conv_out_shape[3]))(decode)\n",
    "decode = keras.layers.Conv2DTranspose(32,(3,3),\n",
    "                                      strides=2,\n",
    "                                      activation=\"relu\",\n",
    "                                      padding=\"same\")(decode)\n",
    "decode = keras.layers.Conv2DTranspose(32,(5,5),\n",
    "                                      strides=2,\n",
    "                                      activation=\"relu\",\n",
    "                                      padding=\"same\")(decode)\n",
    "de_output = keras.layers.Conv2D(1,(3,3),\n",
    "                                activation=\"sigmoid\",\n",
    "                                padding=\"same\")(decode)\n",
    "decoder_component = keras.Model(de_input,de_output,name=\"Decoder\")\n"
   ]
  },
  {
   "cell_type": "markdown",
   "metadata": {},
   "source": [
    "### 1.3. Combine two components to obtain the autoencoder model"
   ]
  },
  {
   "cell_type": "code",
   "execution_count": 22,
   "metadata": {},
   "outputs": [],
   "source": [
    "model_autoencoder = keras.Model(en_input,\n",
    "                                decoder_component(encoder_component(en_input)),\n",
    "                                name = \"Autoencoder\")"
   ]
  },
  {
   "cell_type": "code",
   "execution_count": 23,
   "metadata": {},
   "outputs": [
    {
     "name": "stdout",
     "output_type": "stream",
     "text": [
      "Model: \"Encoder\"\n",
      "_________________________________________________________________\n",
      " Layer (type)                Output Shape              Param #   \n",
      "=================================================================\n",
      " input_5 (InputLayer)        [(None, 128, 128, 1)]     0         \n",
      "                                                                 \n",
      " conv2d_6 (Conv2D)           (None, 128, 128, 32)      832       \n",
      "                                                                 \n",
      " max_pooling2d_4 (MaxPooling  (None, 64, 64, 32)       0         \n",
      " 2D)                                                             \n",
      "                                                                 \n",
      " conv2d_7 (Conv2D)           (None, 64, 64, 32)        9248      \n",
      "                                                                 \n",
      " max_pooling2d_5 (MaxPooling  (None, 32, 32, 32)       0         \n",
      " 2D)                                                             \n",
      "                                                                 \n",
      " flatten_2 (Flatten)         (None, 32768)             0         \n",
      "                                                                 \n",
      " dense_8 (Dense)             (None, 128)               4194432   \n",
      "                                                                 \n",
      " dense_9 (Dense)             (None, 32)                4128      \n",
      "                                                                 \n",
      "=================================================================\n",
      "Total params: 4,208,640\n",
      "Trainable params: 4,208,640\n",
      "Non-trainable params: 0\n",
      "_________________________________________________________________\n"
     ]
    }
   ],
   "source": [
    "encoder_component.summary()"
   ]
  },
  {
   "cell_type": "code",
   "execution_count": 24,
   "metadata": {},
   "outputs": [
    {
     "name": "stdout",
     "output_type": "stream",
     "text": [
      "Model: \"Decoder\"\n",
      "_________________________________________________________________\n",
      " Layer (type)                Output Shape              Param #   \n",
      "=================================================================\n",
      " input_6 (InputLayer)        [(None, 32)]              0         \n",
      "                                                                 \n",
      " dense_10 (Dense)            (None, 128)               4224      \n",
      "                                                                 \n",
      " dense_11 (Dense)            (None, 32768)             4227072   \n",
      "                                                                 \n",
      " reshape_2 (Reshape)         (None, 32, 32, 32)        0         \n",
      "                                                                 \n",
      " conv2d_transpose_4 (Conv2DT  (None, 64, 64, 32)       9248      \n",
      " ranspose)                                                       \n",
      "                                                                 \n",
      " conv2d_transpose_5 (Conv2DT  (None, 128, 128, 32)     25632     \n",
      " ranspose)                                                       \n",
      "                                                                 \n",
      " conv2d_8 (Conv2D)           (None, 128, 128, 1)       289       \n",
      "                                                                 \n",
      "=================================================================\n",
      "Total params: 4,266,465\n",
      "Trainable params: 4,266,465\n",
      "Non-trainable params: 0\n",
      "_________________________________________________________________\n"
     ]
    }
   ],
   "source": [
    "decoder_component.summary()"
   ]
  },
  {
   "cell_type": "code",
   "execution_count": 25,
   "metadata": {},
   "outputs": [
    {
     "name": "stdout",
     "output_type": "stream",
     "text": [
      "Model: \"Autoencoder\"\n",
      "_________________________________________________________________\n",
      " Layer (type)                Output Shape              Param #   \n",
      "=================================================================\n",
      " input_5 (InputLayer)        [(None, 128, 128, 1)]     0         \n",
      "                                                                 \n",
      " Encoder (Functional)        (None, 32)                4208640   \n",
      "                                                                 \n",
      " Decoder (Functional)        (None, 128, 128, 1)       4266465   \n",
      "                                                                 \n",
      "=================================================================\n",
      "Total params: 8,475,105\n",
      "Trainable params: 8,475,105\n",
      "Non-trainable params: 0\n",
      "_________________________________________________________________\n"
     ]
    }
   ],
   "source": [
    "model_autoencoder.summary()"
   ]
  },
  {
   "cell_type": "markdown",
   "metadata": {},
   "source": [
    "## 2. Task 2: Training model"
   ]
  },
  {
   "cell_type": "markdown",
   "metadata": {},
   "source": [
    "### 2.1. Define the loss function and optimizer"
   ]
  },
  {
   "cell_type": "code",
   "execution_count": 37,
   "metadata": {},
   "outputs": [
    {
     "name": "stdout",
     "output_type": "stream",
     "text": [
      "WARNING:tensorflow:`epsilon` argument is deprecated and will be removed, use `min_delta` instead.\n"
     ]
    }
   ],
   "source": [
    "loss = keras.losses.categorical_crossentropy\n",
    "optimizer = keras.optimizers.Adam()\n",
    "es = EarlyStopping(monitor=\"val_loss\",\n",
    "                   mode='min',\n",
    "                   verbose=1,\n",
    "                   patience=15)\n",
    "mc = ModelCheckpoint('trained_model_best.h5',\n",
    "                     monitor='val_loss',\n",
    "                     mode='min',\n",
    "                     verbose=1,\n",
    "                     save_best_only=True)\n",
    "reduce_lr = ReduceLROnPlateau(monitor='val_loss',\n",
    "                              factor=0.1,\n",
    "                              patience=20,\n",
    "                              verbose=1,\n",
    "                              epsilon=1e-4,\n",
    "                              mode='min')\n",
    "model_autoencoder.compile(loss = 'mse',\n",
    "                          optimizer = optimizer)\n"
   ]
  },
  {
   "cell_type": "code",
   "execution_count": 27,
   "metadata": {},
   "outputs": [],
   "source": [
    "### 2.2. Define the training datagenerator"
   ]
  },
  {
   "cell_type": "code",
   "execution_count": 38,
   "metadata": {},
   "outputs": [],
   "source": [
    "train_datagen= ImageDataGenerator(rotation_range=8,\n",
    "                                     width_shift_range=0.08,\n",
    "                                     shear_range=0.3,\n",
    "                                     height_shift_range=0.08,\n",
    "                                     zoom_range=0.08,\n",
    "                                     horizontal_flip=True,\n",
    "                                     fill_mode='nearest'\n",
    "                                     )\n",
    "validation_datagen = ImageDataGenerator()\n",
    "train_generator = train_datagen.flow(x = X_train, \n",
    "                                     y = X_train, \n",
    "                                     )\n",
    "val_generator = validation_datagen.flow(x = X_val,\n",
    "                                        y = X_val)"
   ]
  },
  {
   "cell_type": "code",
   "execution_count": 46,
   "metadata": {},
   "outputs": [
    {
     "name": "stdout",
     "output_type": "stream",
     "text": [
      "Epoch 1/200\n"
     ]
    },
    {
     "name": "stdout",
     "output_type": "stream",
     "text": [
      "1/1 [==============================] - 1s 616ms/step - loss: 0.1828 - val_loss: 0.1882\n",
      "Epoch 2/200\n",
      "1/1 [==============================] - 0s 499ms/step - loss: 0.1828 - val_loss: 0.1882\n",
      "Epoch 3/200\n",
      "1/1 [==============================] - 0s 422ms/step - loss: 0.1828 - val_loss: 0.1882\n",
      "Epoch 4/200\n",
      "1/1 [==============================] - 0s 490ms/step - loss: 0.1828 - val_loss: 0.1882\n",
      "Epoch 5/200\n",
      "1/1 [==============================] - 0s 429ms/step - loss: 0.1828 - val_loss: 0.1882\n",
      "Epoch 6/200\n",
      "1/1 [==============================] - 0s 426ms/step - loss: 0.1828 - val_loss: 0.1882\n",
      "Epoch 7/200\n",
      "1/1 [==============================] - 0s 489ms/step - loss: 0.1828 - val_loss: 0.1882\n",
      "Epoch 8/200\n",
      "1/1 [==============================] - 0s 460ms/step - loss: 0.1828 - val_loss: 0.1882\n",
      "Epoch 9/200\n",
      "1/1 [==============================] - 1s 522ms/step - loss: 0.1828 - val_loss: 0.1882\n",
      "Epoch 10/200\n",
      "1/1 [==============================] - 1s 536ms/step - loss: 0.1828 - val_loss: 0.1882\n",
      "Epoch 11/200\n",
      "1/1 [==============================] - 1s 546ms/step - loss: 0.1828 - val_loss: 0.1882\n",
      "Epoch 12/200\n",
      "1/1 [==============================] - 1s 572ms/step - loss: 0.1828 - val_loss: 0.1882\n",
      "Epoch 13/200\n",
      "1/1 [==============================] - 1s 508ms/step - loss: 0.1828 - val_loss: 0.1882\n",
      "Epoch 14/200\n",
      "1/1 [==============================] - 1s 588ms/step - loss: 0.1828 - val_loss: 0.1882\n",
      "Epoch 15/200\n",
      "1/1 [==============================] - 0s 485ms/step - loss: 0.1828 - val_loss: 0.1882\n",
      "Epoch 16/200\n",
      "1/1 [==============================] - 1s 732ms/step - loss: 0.1828 - val_loss: 0.1882\n",
      "Epoch 17/200\n",
      "1/1 [==============================] - 1s 502ms/step - loss: 0.1828 - val_loss: 0.1882\n",
      "Epoch 18/200\n",
      "1/1 [==============================] - 0s 458ms/step - loss: 0.1828 - val_loss: 0.1882\n",
      "Epoch 19/200\n",
      "1/1 [==============================] - 1s 533ms/step - loss: 0.1828 - val_loss: 0.1882\n",
      "Epoch 20/200\n",
      "1/1 [==============================] - 1s 556ms/step - loss: 0.1828 - val_loss: 0.1882\n",
      "Epoch 21/200\n",
      "1/1 [==============================] - 1s 515ms/step - loss: 0.1828 - val_loss: 0.1882\n",
      "Epoch 22/200\n",
      "1/1 [==============================] - 0s 479ms/step - loss: 0.1828 - val_loss: 0.1882\n",
      "Epoch 23/200\n",
      "1/1 [==============================] - 1s 518ms/step - loss: 0.1828 - val_loss: 0.1882\n",
      "Epoch 24/200\n",
      "1/1 [==============================] - 0s 447ms/step - loss: 0.1828 - val_loss: 0.1882\n",
      "Epoch 25/200\n",
      "1/1 [==============================] - 0s 456ms/step - loss: 0.1828 - val_loss: 0.1882\n",
      "Epoch 26/200\n",
      "1/1 [==============================] - 0s 486ms/step - loss: 0.1828 - val_loss: 0.1882\n",
      "Epoch 27/200\n",
      "1/1 [==============================] - 0s 473ms/step - loss: 0.1828 - val_loss: 0.1882\n",
      "Epoch 28/200\n",
      "1/1 [==============================] - 0s 443ms/step - loss: 0.1828 - val_loss: 0.1882\n",
      "Epoch 29/200\n",
      "1/1 [==============================] - 0s 444ms/step - loss: 0.1828 - val_loss: 0.1882\n",
      "Epoch 30/200\n",
      "1/1 [==============================] - 0s 433ms/step - loss: 0.1828 - val_loss: 0.1882\n",
      "Epoch 31/200\n",
      "1/1 [==============================] - 0s 472ms/step - loss: 0.1828 - val_loss: 0.1882\n",
      "Epoch 32/200\n",
      "1/1 [==============================] - 0s 433ms/step - loss: 0.1828 - val_loss: 0.1882\n",
      "Epoch 33/200\n",
      "1/1 [==============================] - 0s 418ms/step - loss: 0.1828 - val_loss: 0.1882\n",
      "Epoch 34/200\n",
      "1/1 [==============================] - 0s 404ms/step - loss: 0.1828 - val_loss: 0.1882\n",
      "Epoch 35/200\n",
      "1/1 [==============================] - 1s 503ms/step - loss: 0.1828 - val_loss: 0.1882\n",
      "Epoch 36/200\n",
      "1/1 [==============================] - 0s 458ms/step - loss: 0.1828 - val_loss: 0.1882\n",
      "Epoch 37/200\n",
      "1/1 [==============================] - 0s 402ms/step - loss: 0.1828 - val_loss: 0.1882\n",
      "Epoch 38/200\n",
      "1/1 [==============================] - 0s 475ms/step - loss: 0.1828 - val_loss: 0.1882\n",
      "Epoch 39/200\n",
      "1/1 [==============================] - 1s 520ms/step - loss: 0.1828 - val_loss: 0.1882\n",
      "Epoch 40/200\n",
      "1/1 [==============================] - 0s 487ms/step - loss: 0.1828 - val_loss: 0.1882\n",
      "Epoch 41/200\n",
      "1/1 [==============================] - 0s 487ms/step - loss: 0.1828 - val_loss: 0.1882\n",
      "Epoch 42/200\n",
      "1/1 [==============================] - 0s 427ms/step - loss: 0.1828 - val_loss: 0.1882\n",
      "Epoch 43/200\n",
      "1/1 [==============================] - 0s 425ms/step - loss: 0.1828 - val_loss: 0.1882\n",
      "Epoch 44/200\n",
      "1/1 [==============================] - 1s 613ms/step - loss: 0.1828 - val_loss: 0.1882\n",
      "Epoch 45/200\n",
      "1/1 [==============================] - 1s 715ms/step - loss: 0.1828 - val_loss: 0.1882\n",
      "Epoch 46/200\n",
      "1/1 [==============================] - 1s 670ms/step - loss: 0.1828 - val_loss: 0.1882\n",
      "Epoch 47/200\n",
      "1/1 [==============================] - 1s 550ms/step - loss: 0.1828 - val_loss: 0.1882\n",
      "Epoch 48/200\n",
      "1/1 [==============================] - 1s 620ms/step - loss: 0.1828 - val_loss: 0.1882\n",
      "Epoch 49/200\n",
      "1/1 [==============================] - 1s 541ms/step - loss: 0.1828 - val_loss: 0.1882\n",
      "Epoch 50/200\n",
      "1/1 [==============================] - ETA: 0s - loss: 0.1828"
     ]
    },
    {
     "ename": "KeyboardInterrupt",
     "evalue": "",
     "output_type": "error",
     "traceback": [
      "\u001b[0;31m---------------------------------------------------------------------------\u001b[0m",
      "\u001b[0;31mKeyboardInterrupt\u001b[0m                         Traceback (most recent call last)",
      "Cell \u001b[0;32mIn[46], line 1\u001b[0m\n\u001b[0;32m----> 1\u001b[0m history \u001b[38;5;241m=\u001b[39m \u001b[43mmodel_autoencoder\u001b[49m\u001b[38;5;241;43m.\u001b[39;49m\u001b[43mfit\u001b[49m\u001b[43m(\u001b[49m\u001b[43mX_train\u001b[49m\u001b[43m,\u001b[49m\u001b[43mX_train\u001b[49m\u001b[43m,\u001b[49m\n\u001b[1;32m      2\u001b[0m \u001b[43m                                \u001b[49m\u001b[43mepochs\u001b[49m\u001b[38;5;241;43m=\u001b[39;49m\u001b[38;5;241;43m200\u001b[39;49m\u001b[43m,\u001b[49m\n\u001b[1;32m      3\u001b[0m \u001b[43m                                \u001b[49m\u001b[43mverbose\u001b[49m\u001b[38;5;241;43m=\u001b[39;49m\u001b[38;5;241;43m1\u001b[39;49m\u001b[43m,\u001b[49m\n\u001b[1;32m      4\u001b[0m \u001b[43m                                \u001b[49m\u001b[43mvalidation_data\u001b[49m\u001b[38;5;241;43m=\u001b[39;49m\u001b[43m(\u001b[49m\u001b[43mX_val\u001b[49m\u001b[43m,\u001b[49m\u001b[43mX_val\u001b[49m\u001b[43m)\u001b[49m\u001b[43m,\u001b[49m\n\u001b[1;32m      5\u001b[0m \u001b[43m                                \u001b[49m\u001b[43muse_multiprocessing\u001b[49m\u001b[38;5;241;43m=\u001b[39;49m\u001b[38;5;28;43;01mFalse\u001b[39;49;00m\u001b[43m,\u001b[49m\n\u001b[1;32m      6\u001b[0m \u001b[43m                                \u001b[49m\u001b[43m)\u001b[49m\n",
      "File \u001b[0;32m~/anaconda3/envs/ASINK_Demo/lib/python3.10/site-packages/keras/utils/traceback_utils.py:65\u001b[0m, in \u001b[0;36mfilter_traceback.<locals>.error_handler\u001b[0;34m(*args, **kwargs)\u001b[0m\n\u001b[1;32m     63\u001b[0m filtered_tb \u001b[38;5;241m=\u001b[39m \u001b[38;5;28;01mNone\u001b[39;00m\n\u001b[1;32m     64\u001b[0m \u001b[38;5;28;01mtry\u001b[39;00m:\n\u001b[0;32m---> 65\u001b[0m     \u001b[38;5;28;01mreturn\u001b[39;00m \u001b[43mfn\u001b[49m\u001b[43m(\u001b[49m\u001b[38;5;241;43m*\u001b[39;49m\u001b[43margs\u001b[49m\u001b[43m,\u001b[49m\u001b[43m \u001b[49m\u001b[38;5;241;43m*\u001b[39;49m\u001b[38;5;241;43m*\u001b[39;49m\u001b[43mkwargs\u001b[49m\u001b[43m)\u001b[49m\n\u001b[1;32m     66\u001b[0m \u001b[38;5;28;01mexcept\u001b[39;00m \u001b[38;5;167;01mException\u001b[39;00m \u001b[38;5;28;01mas\u001b[39;00m e:\n\u001b[1;32m     67\u001b[0m     filtered_tb \u001b[38;5;241m=\u001b[39m _process_traceback_frames(e\u001b[38;5;241m.\u001b[39m__traceback__)\n",
      "File \u001b[0;32m~/anaconda3/envs/ASINK_Demo/lib/python3.10/site-packages/keras/engine/training.py:1606\u001b[0m, in \u001b[0;36mModel.fit\u001b[0;34m(self, x, y, batch_size, epochs, verbose, callbacks, validation_split, validation_data, shuffle, class_weight, sample_weight, initial_epoch, steps_per_epoch, validation_steps, validation_batch_size, validation_freq, max_queue_size, workers, use_multiprocessing)\u001b[0m\n\u001b[1;32m   1591\u001b[0m \u001b[38;5;28;01mif\u001b[39;00m \u001b[38;5;28mgetattr\u001b[39m(\u001b[38;5;28mself\u001b[39m, \u001b[38;5;124m\"\u001b[39m\u001b[38;5;124m_eval_data_handler\u001b[39m\u001b[38;5;124m\"\u001b[39m, \u001b[38;5;28;01mNone\u001b[39;00m) \u001b[38;5;129;01mis\u001b[39;00m \u001b[38;5;28;01mNone\u001b[39;00m:\n\u001b[1;32m   1592\u001b[0m     \u001b[38;5;28mself\u001b[39m\u001b[38;5;241m.\u001b[39m_eval_data_handler \u001b[38;5;241m=\u001b[39m data_adapter\u001b[38;5;241m.\u001b[39mget_data_handler(\n\u001b[1;32m   1593\u001b[0m         x\u001b[38;5;241m=\u001b[39mval_x,\n\u001b[1;32m   1594\u001b[0m         y\u001b[38;5;241m=\u001b[39mval_y,\n\u001b[0;32m   (...)\u001b[0m\n\u001b[1;32m   1604\u001b[0m         steps_per_execution\u001b[38;5;241m=\u001b[39m\u001b[38;5;28mself\u001b[39m\u001b[38;5;241m.\u001b[39m_steps_per_execution,\n\u001b[1;32m   1605\u001b[0m     )\n\u001b[0;32m-> 1606\u001b[0m val_logs \u001b[38;5;241m=\u001b[39m \u001b[38;5;28;43mself\u001b[39;49m\u001b[38;5;241;43m.\u001b[39;49m\u001b[43mevaluate\u001b[49m\u001b[43m(\u001b[49m\n\u001b[1;32m   1607\u001b[0m \u001b[43m    \u001b[49m\u001b[43mx\u001b[49m\u001b[38;5;241;43m=\u001b[39;49m\u001b[43mval_x\u001b[49m\u001b[43m,\u001b[49m\n\u001b[1;32m   1608\u001b[0m \u001b[43m    \u001b[49m\u001b[43my\u001b[49m\u001b[38;5;241;43m=\u001b[39;49m\u001b[43mval_y\u001b[49m\u001b[43m,\u001b[49m\n\u001b[1;32m   1609\u001b[0m \u001b[43m    \u001b[49m\u001b[43msample_weight\u001b[49m\u001b[38;5;241;43m=\u001b[39;49m\u001b[43mval_sample_weight\u001b[49m\u001b[43m,\u001b[49m\n\u001b[1;32m   1610\u001b[0m \u001b[43m    \u001b[49m\u001b[43mbatch_size\u001b[49m\u001b[38;5;241;43m=\u001b[39;49m\u001b[43mvalidation_batch_size\u001b[49m\u001b[43m \u001b[49m\u001b[38;5;129;43;01mor\u001b[39;49;00m\u001b[43m \u001b[49m\u001b[43mbatch_size\u001b[49m\u001b[43m,\u001b[49m\n\u001b[1;32m   1611\u001b[0m \u001b[43m    \u001b[49m\u001b[43msteps\u001b[49m\u001b[38;5;241;43m=\u001b[39;49m\u001b[43mvalidation_steps\u001b[49m\u001b[43m,\u001b[49m\n\u001b[1;32m   1612\u001b[0m \u001b[43m    \u001b[49m\u001b[43mcallbacks\u001b[49m\u001b[38;5;241;43m=\u001b[39;49m\u001b[43mcallbacks\u001b[49m\u001b[43m,\u001b[49m\n\u001b[1;32m   1613\u001b[0m \u001b[43m    \u001b[49m\u001b[43mmax_queue_size\u001b[49m\u001b[38;5;241;43m=\u001b[39;49m\u001b[43mmax_queue_size\u001b[49m\u001b[43m,\u001b[49m\n\u001b[1;32m   1614\u001b[0m \u001b[43m    \u001b[49m\u001b[43mworkers\u001b[49m\u001b[38;5;241;43m=\u001b[39;49m\u001b[43mworkers\u001b[49m\u001b[43m,\u001b[49m\n\u001b[1;32m   1615\u001b[0m \u001b[43m    \u001b[49m\u001b[43muse_multiprocessing\u001b[49m\u001b[38;5;241;43m=\u001b[39;49m\u001b[43muse_multiprocessing\u001b[49m\u001b[43m,\u001b[49m\n\u001b[1;32m   1616\u001b[0m \u001b[43m    \u001b[49m\u001b[43mreturn_dict\u001b[49m\u001b[38;5;241;43m=\u001b[39;49m\u001b[38;5;28;43;01mTrue\u001b[39;49;00m\u001b[43m,\u001b[49m\n\u001b[1;32m   1617\u001b[0m \u001b[43m    \u001b[49m\u001b[43m_use_cached_eval_dataset\u001b[49m\u001b[38;5;241;43m=\u001b[39;49m\u001b[38;5;28;43;01mTrue\u001b[39;49;00m\u001b[43m,\u001b[49m\n\u001b[1;32m   1618\u001b[0m \u001b[43m\u001b[49m\u001b[43m)\u001b[49m\n\u001b[1;32m   1619\u001b[0m val_logs \u001b[38;5;241m=\u001b[39m {\n\u001b[1;32m   1620\u001b[0m     \u001b[38;5;124m\"\u001b[39m\u001b[38;5;124mval_\u001b[39m\u001b[38;5;124m\"\u001b[39m \u001b[38;5;241m+\u001b[39m name: val \u001b[38;5;28;01mfor\u001b[39;00m name, val \u001b[38;5;129;01min\u001b[39;00m val_logs\u001b[38;5;241m.\u001b[39mitems()\n\u001b[1;32m   1621\u001b[0m }\n\u001b[1;32m   1622\u001b[0m epoch_logs\u001b[38;5;241m.\u001b[39mupdate(val_logs)\n",
      "File \u001b[0;32m~/anaconda3/envs/ASINK_Demo/lib/python3.10/site-packages/keras/utils/traceback_utils.py:65\u001b[0m, in \u001b[0;36mfilter_traceback.<locals>.error_handler\u001b[0;34m(*args, **kwargs)\u001b[0m\n\u001b[1;32m     63\u001b[0m filtered_tb \u001b[38;5;241m=\u001b[39m \u001b[38;5;28;01mNone\u001b[39;00m\n\u001b[1;32m     64\u001b[0m \u001b[38;5;28;01mtry\u001b[39;00m:\n\u001b[0;32m---> 65\u001b[0m     \u001b[38;5;28;01mreturn\u001b[39;00m \u001b[43mfn\u001b[49m\u001b[43m(\u001b[49m\u001b[38;5;241;43m*\u001b[39;49m\u001b[43margs\u001b[49m\u001b[43m,\u001b[49m\u001b[43m \u001b[49m\u001b[38;5;241;43m*\u001b[39;49m\u001b[38;5;241;43m*\u001b[39;49m\u001b[43mkwargs\u001b[49m\u001b[43m)\u001b[49m\n\u001b[1;32m     66\u001b[0m \u001b[38;5;28;01mexcept\u001b[39;00m \u001b[38;5;167;01mException\u001b[39;00m \u001b[38;5;28;01mas\u001b[39;00m e:\n\u001b[1;32m     67\u001b[0m     filtered_tb \u001b[38;5;241m=\u001b[39m _process_traceback_frames(e\u001b[38;5;241m.\u001b[39m__traceback__)\n",
      "File \u001b[0;32m~/anaconda3/envs/ASINK_Demo/lib/python3.10/site-packages/keras/engine/training.py:1939\u001b[0m, in \u001b[0;36mModel.evaluate\u001b[0;34m(self, x, y, batch_size, verbose, sample_weight, steps, callbacks, max_queue_size, workers, use_multiprocessing, return_dict, **kwargs)\u001b[0m\n\u001b[1;32m   1937\u001b[0m \u001b[38;5;28mself\u001b[39m\u001b[38;5;241m.\u001b[39m_test_counter\u001b[38;5;241m.\u001b[39massign(\u001b[38;5;241m0\u001b[39m)\n\u001b[1;32m   1938\u001b[0m callbacks\u001b[38;5;241m.\u001b[39mon_test_begin()\n\u001b[0;32m-> 1939\u001b[0m \u001b[38;5;28;01mfor\u001b[39;00m _, iterator \u001b[38;5;129;01min\u001b[39;00m data_handler\u001b[38;5;241m.\u001b[39menumerate_epochs():  \u001b[38;5;66;03m# Single epoch.\u001b[39;00m\n\u001b[1;32m   1940\u001b[0m     \u001b[38;5;28mself\u001b[39m\u001b[38;5;241m.\u001b[39mreset_metrics()\n\u001b[1;32m   1941\u001b[0m     \u001b[38;5;28;01mwith\u001b[39;00m data_handler\u001b[38;5;241m.\u001b[39mcatch_stop_iteration():\n",
      "File \u001b[0;32m~/anaconda3/envs/ASINK_Demo/lib/python3.10/site-packages/keras/engine/data_adapter.py:1307\u001b[0m, in \u001b[0;36mDataHandler.enumerate_epochs\u001b[0;34m(self)\u001b[0m\n\u001b[1;32m   1305\u001b[0m \u001b[38;5;250m\u001b[39m\u001b[38;5;124;03m\"\"\"Yields `(epoch, tf.data.Iterator)`.\"\"\"\u001b[39;00m\n\u001b[1;32m   1306\u001b[0m \u001b[38;5;28;01mwith\u001b[39;00m \u001b[38;5;28mself\u001b[39m\u001b[38;5;241m.\u001b[39m_truncate_execution_to_epoch():\n\u001b[0;32m-> 1307\u001b[0m     data_iterator \u001b[38;5;241m=\u001b[39m \u001b[38;5;28;43miter\u001b[39;49m\u001b[43m(\u001b[49m\u001b[38;5;28;43mself\u001b[39;49m\u001b[38;5;241;43m.\u001b[39;49m\u001b[43m_dataset\u001b[49m\u001b[43m)\u001b[49m\n\u001b[1;32m   1308\u001b[0m     \u001b[38;5;28;01mfor\u001b[39;00m epoch \u001b[38;5;129;01min\u001b[39;00m \u001b[38;5;28mrange\u001b[39m(\u001b[38;5;28mself\u001b[39m\u001b[38;5;241m.\u001b[39m_initial_epoch, \u001b[38;5;28mself\u001b[39m\u001b[38;5;241m.\u001b[39m_epochs):\n\u001b[1;32m   1309\u001b[0m         \u001b[38;5;28;01mif\u001b[39;00m \u001b[38;5;28mself\u001b[39m\u001b[38;5;241m.\u001b[39m_insufficient_data:  \u001b[38;5;66;03m# Set by `catch_stop_iteration`.\u001b[39;00m\n",
      "File \u001b[0;32m~/anaconda3/envs/ASINK_Demo/lib/python3.10/site-packages/tensorflow/python/data/ops/dataset_ops.py:499\u001b[0m, in \u001b[0;36mDatasetV2.__iter__\u001b[0;34m(self)\u001b[0m\n\u001b[1;32m    497\u001b[0m \u001b[38;5;28;01mif\u001b[39;00m context\u001b[38;5;241m.\u001b[39mexecuting_eagerly() \u001b[38;5;129;01mor\u001b[39;00m ops\u001b[38;5;241m.\u001b[39minside_function():\n\u001b[1;32m    498\u001b[0m   \u001b[38;5;28;01mwith\u001b[39;00m ops\u001b[38;5;241m.\u001b[39mcolocate_with(\u001b[38;5;28mself\u001b[39m\u001b[38;5;241m.\u001b[39m_variant_tensor):\n\u001b[0;32m--> 499\u001b[0m     \u001b[38;5;28;01mreturn\u001b[39;00m \u001b[43miterator_ops\u001b[49m\u001b[38;5;241;43m.\u001b[39;49m\u001b[43mOwnedIterator\u001b[49m\u001b[43m(\u001b[49m\u001b[38;5;28;43mself\u001b[39;49m\u001b[43m)\u001b[49m\n\u001b[1;32m    500\u001b[0m \u001b[38;5;28;01melse\u001b[39;00m:\n\u001b[1;32m    501\u001b[0m   \u001b[38;5;28;01mraise\u001b[39;00m \u001b[38;5;167;01mRuntimeError\u001b[39;00m(\u001b[38;5;124m\"\u001b[39m\u001b[38;5;124m`tf.data.Dataset` only supports Python-style \u001b[39m\u001b[38;5;124m\"\u001b[39m\n\u001b[1;32m    502\u001b[0m                      \u001b[38;5;124m\"\u001b[39m\u001b[38;5;124miteration in eager mode or within tf.function.\u001b[39m\u001b[38;5;124m\"\u001b[39m)\n",
      "File \u001b[0;32m~/anaconda3/envs/ASINK_Demo/lib/python3.10/site-packages/tensorflow/python/data/ops/iterator_ops.py:696\u001b[0m, in \u001b[0;36mOwnedIterator.__init__\u001b[0;34m(self, dataset, components, element_spec)\u001b[0m\n\u001b[1;32m    692\u001b[0m   \u001b[38;5;28;01mif\u001b[39;00m (components \u001b[38;5;129;01mis\u001b[39;00m \u001b[38;5;129;01mnot\u001b[39;00m \u001b[38;5;28;01mNone\u001b[39;00m \u001b[38;5;129;01mor\u001b[39;00m element_spec \u001b[38;5;129;01mis\u001b[39;00m \u001b[38;5;129;01mnot\u001b[39;00m \u001b[38;5;28;01mNone\u001b[39;00m):\n\u001b[1;32m    693\u001b[0m     \u001b[38;5;28;01mraise\u001b[39;00m \u001b[38;5;167;01mValueError\u001b[39;00m(\n\u001b[1;32m    694\u001b[0m         \u001b[38;5;124m\"\u001b[39m\u001b[38;5;124mWhen `dataset` is provided, `element_spec` and `components` must \u001b[39m\u001b[38;5;124m\"\u001b[39m\n\u001b[1;32m    695\u001b[0m         \u001b[38;5;124m\"\u001b[39m\u001b[38;5;124mnot be specified.\u001b[39m\u001b[38;5;124m\"\u001b[39m)\n\u001b[0;32m--> 696\u001b[0m   \u001b[38;5;28;43mself\u001b[39;49m\u001b[38;5;241;43m.\u001b[39;49m\u001b[43m_create_iterator\u001b[49m\u001b[43m(\u001b[49m\u001b[43mdataset\u001b[49m\u001b[43m)\u001b[49m\n\u001b[1;32m    698\u001b[0m \u001b[38;5;28mself\u001b[39m\u001b[38;5;241m.\u001b[39m_get_next_call_count \u001b[38;5;241m=\u001b[39m \u001b[38;5;241m0\u001b[39m\n",
      "File \u001b[0;32m~/anaconda3/envs/ASINK_Demo/lib/python3.10/site-packages/tensorflow/python/data/ops/iterator_ops.py:721\u001b[0m, in \u001b[0;36mOwnedIterator._create_iterator\u001b[0;34m(self, dataset)\u001b[0m\n\u001b[1;32m    716\u001b[0m \u001b[38;5;28;01mwith\u001b[39;00m ops\u001b[38;5;241m.\u001b[39mcolocate_with(ds_variant):\n\u001b[1;32m    717\u001b[0m   \u001b[38;5;28mself\u001b[39m\u001b[38;5;241m.\u001b[39m_iterator_resource \u001b[38;5;241m=\u001b[39m (\n\u001b[1;32m    718\u001b[0m       gen_dataset_ops\u001b[38;5;241m.\u001b[39manonymous_iterator_v3(\n\u001b[1;32m    719\u001b[0m           output_types\u001b[38;5;241m=\u001b[39m\u001b[38;5;28mself\u001b[39m\u001b[38;5;241m.\u001b[39m_flat_output_types,\n\u001b[1;32m    720\u001b[0m           output_shapes\u001b[38;5;241m=\u001b[39m\u001b[38;5;28mself\u001b[39m\u001b[38;5;241m.\u001b[39m_flat_output_shapes))\n\u001b[0;32m--> 721\u001b[0m   \u001b[43mgen_dataset_ops\u001b[49m\u001b[38;5;241;43m.\u001b[39;49m\u001b[43mmake_iterator\u001b[49m\u001b[43m(\u001b[49m\u001b[43mds_variant\u001b[49m\u001b[43m,\u001b[49m\u001b[43m \u001b[49m\u001b[38;5;28;43mself\u001b[39;49m\u001b[38;5;241;43m.\u001b[39;49m\u001b[43m_iterator_resource\u001b[49m\u001b[43m)\u001b[49m\n",
      "File \u001b[0;32m~/anaconda3/envs/ASINK_Demo/lib/python3.10/site-packages/tensorflow/python/ops/gen_dataset_ops.py:3409\u001b[0m, in \u001b[0;36mmake_iterator\u001b[0;34m(dataset, iterator, name)\u001b[0m\n\u001b[1;32m   3407\u001b[0m \u001b[38;5;28;01mif\u001b[39;00m tld\u001b[38;5;241m.\u001b[39mis_eager:\n\u001b[1;32m   3408\u001b[0m   \u001b[38;5;28;01mtry\u001b[39;00m:\n\u001b[0;32m-> 3409\u001b[0m     _result \u001b[38;5;241m=\u001b[39m \u001b[43mpywrap_tfe\u001b[49m\u001b[38;5;241;43m.\u001b[39;49m\u001b[43mTFE_Py_FastPathExecute\u001b[49m\u001b[43m(\u001b[49m\n\u001b[1;32m   3410\u001b[0m \u001b[43m      \u001b[49m\u001b[43m_ctx\u001b[49m\u001b[43m,\u001b[49m\u001b[43m \u001b[49m\u001b[38;5;124;43m\"\u001b[39;49m\u001b[38;5;124;43mMakeIterator\u001b[39;49m\u001b[38;5;124;43m\"\u001b[39;49m\u001b[43m,\u001b[49m\u001b[43m \u001b[49m\u001b[43mname\u001b[49m\u001b[43m,\u001b[49m\u001b[43m \u001b[49m\u001b[43mdataset\u001b[49m\u001b[43m,\u001b[49m\u001b[43m \u001b[49m\u001b[43miterator\u001b[49m\u001b[43m)\u001b[49m\n\u001b[1;32m   3411\u001b[0m     \u001b[38;5;28;01mreturn\u001b[39;00m _result\n\u001b[1;32m   3412\u001b[0m   \u001b[38;5;28;01mexcept\u001b[39;00m _core\u001b[38;5;241m.\u001b[39m_NotOkStatusException \u001b[38;5;28;01mas\u001b[39;00m e:\n",
      "\u001b[0;31mKeyboardInterrupt\u001b[0m: "
     ]
    }
   ],
   "source": [
    "history = model_autoencoder.fit(X_train,X_train,\n",
    "                                epochs=200,\n",
    "                                verbose=1,\n",
    "                                validation_data=(X_val,X_val),\n",
    "                                use_multiprocessing=False,\n",
    "                                )"
   ]
  },
  {
   "cell_type": "code",
   "execution_count": 40,
   "metadata": {},
   "outputs": [],
   "source": [
    "decode_val = model_autoencoder(X_val)"
   ]
  },
  {
   "cell_type": "code",
   "execution_count": 41,
   "metadata": {},
   "outputs": [
    {
     "name": "stdout",
     "output_type": "stream",
     "text": [
      "(2, 128, 128, 1)\n"
     ]
    }
   ],
   "source": [
    "print(decode_val.shape)"
   ]
  },
  {
   "cell_type": "code",
   "execution_count": 42,
   "metadata": {},
   "outputs": [
    {
     "name": "stdout",
     "output_type": "stream",
     "text": [
      "tf.Tensor(\n",
      "[[[6.8097593e-32]\n",
      "  [0.0000000e+00]\n",
      "  [0.0000000e+00]\n",
      "  ...\n",
      "  [0.0000000e+00]\n",
      "  [0.0000000e+00]\n",
      "  [0.0000000e+00]]\n",
      "\n",
      " [[0.0000000e+00]\n",
      "  [0.0000000e+00]\n",
      "  [0.0000000e+00]\n",
      "  ...\n",
      "  [0.0000000e+00]\n",
      "  [0.0000000e+00]\n",
      "  [0.0000000e+00]]\n",
      "\n",
      " [[0.0000000e+00]\n",
      "  [0.0000000e+00]\n",
      "  [0.0000000e+00]\n",
      "  ...\n",
      "  [0.0000000e+00]\n",
      "  [0.0000000e+00]\n",
      "  [0.0000000e+00]]\n",
      "\n",
      " ...\n",
      "\n",
      " [[0.0000000e+00]\n",
      "  [0.0000000e+00]\n",
      "  [0.0000000e+00]\n",
      "  ...\n",
      "  [0.0000000e+00]\n",
      "  [0.0000000e+00]\n",
      "  [0.0000000e+00]]\n",
      "\n",
      " [[0.0000000e+00]\n",
      "  [0.0000000e+00]\n",
      "  [0.0000000e+00]\n",
      "  ...\n",
      "  [0.0000000e+00]\n",
      "  [0.0000000e+00]\n",
      "  [0.0000000e+00]]\n",
      "\n",
      " [[4.4749057e-38]\n",
      "  [0.0000000e+00]\n",
      "  [0.0000000e+00]\n",
      "  ...\n",
      "  [0.0000000e+00]\n",
      "  [0.0000000e+00]\n",
      "  [0.0000000e+00]]], shape=(128, 128, 1), dtype=float32)\n"
     ]
    }
   ],
   "source": [
    "print(decode_val[0])"
   ]
  },
  {
   "cell_type": "code",
   "execution_count": 35,
   "metadata": {},
   "outputs": [
    {
     "data": {
      "image/png": "[encoded data removed]",
      "text/plain": [
       "<Figure size 1000x500 with 4 Axes>"
      ]
     },
     "metadata": {},
     "output_type": "display_data"
    }
   ],
   "source": [
    "# Visualize the first 30 test samples and show their predicted digit value in the title.\n",
    "_,axes = plt.subplots(nrows = 2,ncols = 2, figsize= (10,5))\n",
    "for r in range(2):\n",
    "    axes[r,0].set_axis_off()\n",
    "    axes[r,1].set_axis_off()\n",
    "    img_val = X_val[r].reshape((width,height))\n",
    "    pred_val = np.array(decode_val[r]).reshape((width,height))\n",
    "    axes[r,0].imshow(img_val,  interpolation = \"nearest\")\n",
    "    axes[r,1].imshow(pred_val,  interpolation = \"nearest\")"
   ]
  }
 ],
 "metadata": {
  "kernelspec": {
   "display_name": "ASINK_Demo",
   "language": "python",
   "name": "python3"
  },
  "language_info": {
   "codemirror_mode": {
    "name": "ipython",
    "version": 3
   },
   "file_extension": ".py",
   "mimetype": "text/x-python",
   "name": "python",
   "nbconvert_exporter": "python",
   "pygments_lexer": "ipython3",
   "version": "3.10.8"
  }
 },
 "nbformat": 4,
 "nbformat_minor": 2
}

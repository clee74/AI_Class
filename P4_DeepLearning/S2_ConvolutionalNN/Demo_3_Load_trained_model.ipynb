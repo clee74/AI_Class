{
 "cells": [
  {
   "cell_type": "markdown",
   "metadata": {},
   "source": [
    "# Demo 3: Load the trained cnn model with different hyperparameters\n",
    "\n",
    "In this demo we will loading 4 trained models:\n",
    "-   Model 1:\n",
    "-   Model 2:\n",
    "-   Model 3:\n",
    "-   Model 4:"
   ]
  },
  {
   "cell_type": "markdown",
   "metadata": {},
   "source": [
    "Tasks Outlines:\n",
    "\n",
    "## 0. Task 0: Preparing dataset\n",
    "## 1. Task 1: Loading the trained models\n",
    "## 2. Taks 2: Showing the feature images which is obtained under the convolutional layers\n"
   ]
  },
  {
   "cell_type": "markdown",
   "metadata": {},
   "source": [
    "## Import all packages"
   ]
  },
  {
   "cell_type": "code",
   "execution_count": 1,
   "metadata": {},
   "outputs": [],
   "source": [
    "import os\n",
    "from PIL import Image\n",
    "import numpy as np\n",
    "from matplotlib import pyplot as plt\n",
    "\n",
    "from tensorflow import keras"
   ]
  },
  {
   "cell_type": "markdown",
   "metadata": {},
   "source": [
    "## 0. Task 0: Preparing Dataset\n",
    "### 0.1. Define a function get all paths to each image in the dataset and the class label of each image"
   ]
  },
  {
   "cell_type": "code",
   "execution_count": 2,
   "metadata": {},
   "outputs": [],
   "source": [
    "def get_all_img_label_path(input_dir:str,\n",
    "                            img_suffix = '.bmp')->(list,list):\n",
    "    \"\"\"\n",
    "    parameters:\n",
    "    -   input_dir: the directory to the data folder\n",
    "    -   img_suffix: siffix type of image in the data folder to read\n",
    "    output: a tuple of two lists:\n",
    "    -   List of all path to each image in the data folder\n",
    "    -   List of relative class for each image in the data folder\n",
    "    \"\"\"\n",
    "    label_to_number = {\"Good\":0,\"A1\":1}\n",
    "    list_img_paths = []\n",
    "    list_labels = []\n",
    "    for root,dirs,files in os.walk(input_dir):\n",
    "        for file in files:\n",
    "            file_path = os.path.join(root,file)\n",
    "\n",
    "            file_name,file_suffix = os.path.splitext(file)\n",
    "            if file_suffix == img_suffix:\n",
    "                list_img_paths.append(file_path)\n",
    "                folder_name = os.path.basename(os.path.dirname(file_path))\n",
    "                list_labels.append(label_to_number[folder_name])\n",
    "    return (list_img_paths,list_labels)"
   ]
  }
 ],
 "metadata": {
  "kernelspec": {
   "display_name": "tfenv",
   "language": "python",
   "name": "python3"
  },
  "language_info": {
   "codemirror_mode": {
    "name": "ipython",
    "version": 3
   },
   "file_extension": ".py",
   "mimetype": "text/x-python",
   "name": "python",
   "nbconvert_exporter": "python",
   "pygments_lexer": "ipython3",
   "version": "3.10.11"
  }
 },
 "nbformat": 4,
 "nbformat_minor": 2
}

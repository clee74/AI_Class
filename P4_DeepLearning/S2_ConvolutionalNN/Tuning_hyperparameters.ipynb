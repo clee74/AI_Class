{
 "cells": [
  {
   "cell_type": "code",
   "execution_count": null,
   "metadata": {},
   "outputs": [],
   "source": [
    "# Create a model with only one conv2d kernel_size = (5,5)\n",
    "input_shape_test=(1856,1856,1)\n",
    "model_layer0 = Sequential()\n",
    "## Convolution layer1 : Conv2d\n",
    "model_layer0.add(Conv2D(32,\n",
    "                    kernel_size=(5,5),\n",
    "                    input_shape = input_shape_test))"
   ]
  },
  {
   "cell_type": "code",
   "execution_count": null,
   "metadata": {},
   "outputs": [],
   "source": [
    "# Setting the weights for the model by the weight from loaded model in previous part\t\n",
    "model_layer0.set_weights(load_model.layers[0].get_weights())"
   ]
  },
  {
   "cell_type": "code",
   "execution_count": null,
   "metadata": {},
   "outputs": [],
   "source": [
    "# Prepare the original dataset without rescale\n",
    "data = []\n",
    "for i in range(len(list_imgs_test)):\n",
    "    path_img = list_imgs_test[i]\n",
    "    img = Image.open(path_img).convert('L')\n",
    "    data.append(np.array(img))\n",
    "X_test_original = np.array(data)"
   ]
  },
  {
   "cell_type": "code",
   "execution_count": null,
   "metadata": {},
   "outputs": [],
   "source": [
    "# Reshape X_test_original to correct form\n",
    "n_test_original = X_test_original.shape[0]\n",
    "X_test_original = X_test_original.reshape((n_test_original,1856,1856,n_channels))\n",
    "X_test_original = X_test_original/255\n",
    "print(X_test_original.shape)"
   ]
  },
  {
   "cell_type": "code",
   "execution_count": null,
   "metadata": {},
   "outputs": [],
   "source": [
    "# Prepare the original dataset without rescale\n",
    "data_train = []\n",
    "for i in range(len(list_imgs_train)):\n",
    "    path_img = list_imgs_train[i]\n",
    "    img = Image.open(path_img).convert('L')\n",
    "    data_train.append(np.array(img))\n",
    "X_train_original = np.array(data_train)"
   ]
  },
  {
   "cell_type": "code",
   "execution_count": null,
   "metadata": {},
   "outputs": [],
   "source": [
    "# Reshape X_test_original to correct form\n",
    "n_train_original = X_train_original.shape[0]\n",
    "X_train_original = X_train_original.reshape((n_train_original,1856,1856,n_channels))\n",
    "X_train_original = X_train_original/255\n",
    "print(X_train_original.shape)"
   ]
  },
  {
   "cell_type": "code",
   "execution_count": null,
   "metadata": {},
   "outputs": [],
   "source": [
    "# Show the first image in datatest\n",
    "plt.imshow(X_train_original[37,:,:,0],cmap ='gray')"
   ]
  },
  {
   "cell_type": "code",
   "execution_count": null,
   "metadata": {},
   "outputs": [],
   "source": [
    "# Getting the features under the conv2d \n",
    "feature_0 = model_layer0.predict(X_train_original[37:38,:,:,:])"
   ]
  },
  {
   "cell_type": "code",
   "execution_count": null,
   "metadata": {},
   "outputs": [],
   "source": [
    "vmin = feature_0.min()\n",
    "vmax = feature_0.max()"
   ]
  },
  {
   "cell_type": "code",
   "execution_count": null,
   "metadata": {},
   "outputs": [],
   "source": [
    "plt.imshow(feature_0[0,:,:,14], cmap = 'gray', interpolation = \"nearest\")"
   ]
  },
  {
   "cell_type": "code",
   "execution_count": null,
   "metadata": {},
   "outputs": [],
   "source": [
    "# Visualize the 32 features image under the conv2d\n",
    "_,axes = plt.subplots(nrows = 4,ncols = 8, figsize= (20,10))\n",
    "for r in range(4):\n",
    "    for c in range(8):\n",
    "        index = r*8 + c\n",
    "        axes[r,c].set_axis_off()\n",
    "        photo = axes[r,c].imshow(feature_0[0,:,:,index], cmap = 'gray',vmin = vmin,vmax = vmax, interpolation = \"nearest\")\n",
    "        axes[r,c].set_title(f\"Feature: {index}\")\n",
    "        cbar = fig.colorbar(photo)"
   ]
  },
  {
   "cell_type": "code",
   "execution_count": null,
   "metadata": {},
   "outputs": [],
   "source": [
    "# Apply the activation function on the features\n",
    "f_Relu = Activation('relu')"
   ]
  },
  {
   "cell_type": "code",
   "execution_count": null,
   "metadata": {},
   "outputs": [],
   "source": [
    "feature_relu = f_Relu(feature_0)\n",
    "feature_relu_min = feature_relu.min()\n",
    "feature_relu_max = feature_relu.max()"
   ]
  },
  {
   "cell_type": "code",
   "execution_count": null,
   "metadata": {},
   "outputs": [],
   "source": [
    "# Visualize the 32 features image under the conv2d and Relu\n",
    "_,axes = plt.subplots(nrows = 4,ncols = 8, figsize= (20,10))\n",
    "for r in range(4):\n",
    "    for c in range(8):\n",
    "        index = r*8 + c\n",
    "        axes[r,c].set_axis_off()\n",
    "        photo = axes[r,c].imshow(feature_relu[0,:,:,index], cmap = 'gray',vmin = feature_relu_min,vmax=feature_relu_max, interpolation = \"nearest\")\n",
    "        axes[r,c].set_title(f\"Feature: {index}\")\n",
    "        cbar = fig.colorbar(photo)"
   ]
  },
  {
   "cell_type": "code",
   "execution_count": null,
   "metadata": {},
   "outputs": [],
   "source": [
    "f_Sigmoid = Activation('sigmoid')"
   ]
  },
  {
   "cell_type": "code",
   "execution_count": null,
   "metadata": {},
   "outputs": [],
   "source": [
    "feature_sigmoid = f_Sigmoid(feature_0)"
   ]
  },
  {
   "cell_type": "code",
   "execution_count": null,
   "metadata": {},
   "outputs": [],
   "source": [
    "# Visualize the 32 features image under the conv2d and Sigmoid\n",
    "_,axes = plt.subplots(nrows = 4,ncols = 8, figsize= (20,10))\n",
    "for r in range(4):\n",
    "    for c in range(8):\n",
    "        index = r*8 + c\n",
    "        axes[r,c].set_axis_off()\n",
    "        axes[r,c].imshow(feature_sigmoid[0,:,:,index], cmap = 'gray', interpolation = \"nearest\")\n",
    "        axes[r,c].set_title(f\"Feature: {index}\")"
   ]
  }
 ],
 "metadata": {
  "language_info": {
   "name": "python"
  }
 },
 "nbformat": 4,
 "nbformat_minor": 2
}

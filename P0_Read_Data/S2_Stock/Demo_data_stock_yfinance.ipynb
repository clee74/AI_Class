{
 "cells": [
  {
   "cell_type": "markdown",
   "metadata": {},
   "source": [
    "# Demo: Getting the data stock daily update by using the yfinance library\n",
    "In this demo of code we use the yfinance library to obtain the daily update data stock.\n",
    "There are some package we will get in touch with:\n",
    "-   pandas\n",
    "-   yfinance\n",
    "-   datatime\n",
    "-   bs4\n",
    "-   requests"
   ]
  },
  {
   "cell_type": "code",
   "execution_count": 43,
   "metadata": {},
   "outputs": [],
   "source": [
    "# import package\n",
    "import pandas as pd\n",
    "from datetime import datetime\n",
    "from dateutil.relativedelta import relativedelta\n",
    "import requests\n",
    "from bs4 import BeautifulSoup\n",
    "import yfinance"
   ]
  },
  {
   "cell_type": "code",
   "execution_count": 44,
   "metadata": {},
   "outputs": [],
   "source": [
    "# Getting most n famous tickers: Company Name, Company Code\n",
    "n_tickers = 10\n",
    "html = requests.get('https://companiesmarketcap.com/tech/largest-tech-companies-by-market-cap/').text\n",
    "soup = BeautifulSoup(html, 'html.parser')\n",
    "companyName = [x.get_text(strip=True) for x in soup.find_all('div', {'class': 'company-name'})][:n_tickers]\n",
    "companyCode = [x.get_text(strip=True) for x in soup.find_all('div', {'class': 'company-code'})][:n_tickers]"
   ]
  },
  {
   "cell_type": "code",
   "execution_count": 45,
   "metadata": {},
   "outputs": [
    {
     "name": "stdout",
     "output_type": "stream",
     "text": [
      "['AAPL', 'MSFT', 'GOOG', 'AMZN', 'NVDA', 'META', 'TSLA', 'TSM', 'AVGO', 'TCEHY']\n"
     ]
    }
   ],
   "source": [
    "print(companyCode)"
   ]
  },
  {
   "cell_type": "code",
   "execution_count": 46,
   "metadata": {},
   "outputs": [
    {
     "name": "stdout",
     "output_type": "stream",
     "text": [
      "['Apple', 'Microsoft', 'Alphabet (Google)', 'Amazon', 'NVIDIA', 'Meta Platforms (Facebook)', 'Tesla', 'TSMC', 'Broadcom', 'Tencent']\n"
     ]
    }
   ],
   "source": [
    "print(companyName)"
   ]
  },
  {
   "cell_type": "code",
   "execution_count": 47,
   "metadata": {},
   "outputs": [
    {
     "name": "stdout",
     "output_type": "stream",
     "text": [
      "2018-11-10 10:21:43.664990\n",
      "2023-11-10 10:21:43.665149\n",
      "[*********************100%%**********************]  1 of 1 completed\n"
     ]
    }
   ],
   "source": [
    "# Getting stock data of Company Name: TSMC with Company Code: TSM\n",
    "\"\"\"\n",
    "-   start_date: start time to getting data stock\n",
    "-   end_data: end time to getting data stock\n",
    "-   data_source: where to getting data\n",
    "\"\"\"\n",
    "now = datetime.now()\n",
    "data_source = 'yahoo'\n",
    "start_date = now.today() - relativedelta(years  = 5)\n",
    "end_date = now.today()\n",
    "print(start_date)\n",
    "print(end_date)\n",
    "df_TSM = yfinance.download(\"TSM\",start=start_date,end=end_date)"
   ]
  },
  {
   "cell_type": "markdown",
   "metadata": {},
   "source": [
    "# Exploring the data:\n",
    "-   Type of data in python\n",
    "-   Metadata information\n",
    "-   Simple statistics of data\n",
    "-   Visualize data"
   ]
  },
  {
   "cell_type": "code",
   "execution_count": 48,
   "metadata": {},
   "outputs": [
    {
     "name": "stdout",
     "output_type": "stream",
     "text": [
      "<class 'pandas.core.frame.DataFrame'>\n"
     ]
    }
   ],
   "source": [
    "# Type of data after getting from yfinance:\n",
    "print(type(df_TSM))"
   ]
  },
  {
   "cell_type": "markdown",
   "metadata": {},
   "source": [
    "The type of data after getting from yfinance is DataFrame type in Pandas library"
   ]
  },
  {
   "cell_type": "code",
   "execution_count": 49,
   "metadata": {},
   "outputs": [
    {
     "name": "stdout",
     "output_type": "stream",
     "text": [
      "<class 'pandas.core.frame.DataFrame'>\n",
      "DatetimeIndex: 1257 entries, 2018-11-12 to 2023-11-09\n",
      "Data columns (total 6 columns):\n",
      " #   Column     Non-Null Count  Dtype  \n",
      "---  ------     --------------  -----  \n",
      " 0   Open       1257 non-null   float64\n",
      " 1   High       1257 non-null   float64\n",
      " 2   Low        1257 non-null   float64\n",
      " 3   Close      1257 non-null   float64\n",
      " 4   Adj Close  1257 non-null   float64\n",
      " 5   Volume     1257 non-null   int64  \n",
      "dtypes: float64(5), int64(1)\n",
      "memory usage: 68.7 KB\n"
     ]
    }
   ],
   "source": [
    "# Data info:\n",
    "df_TSM.info()"
   ]
  },
  {
   "cell_type": "markdown",
   "metadata": {},
   "source": [
    "There are 6 features for each row:\n",
    "-   One row is data for one day\n",
    "-   Each day: \n",
    "    -   Open: The price when the market opened in the morning\n",
    "    -   High: The highest price during that trading day\n",
    "    -   Low: The lowest price duing that trading day.\n",
    "    -   Close: The price when the market closed in the afternoon\n",
    "    -   Adj Close: A price adjusted to make prices comparable over time\n",
    "    -   Volumn: Number of shares of the stock traded that day."
   ]
  },
  {
   "cell_type": "code",
   "execution_count": 50,
   "metadata": {},
   "outputs": [
    {
     "data": {
      "text/html": [
       "<div>\n",
       "<style scoped>\n",
       "    .dataframe tbody tr th:only-of-type {\n",
       "        vertical-align: middle;\n",
       "    }\n",
       "\n",
       "    .dataframe tbody tr th {\n",
       "        vertical-align: top;\n",
       "    }\n",
       "\n",
       "    .dataframe thead th {\n",
       "        text-align: right;\n",
       "    }\n",
       "</style>\n",
       "<table border=\"1\" class=\"dataframe\">\n",
       "  <thead>\n",
       "    <tr style=\"text-align: right;\">\n",
       "      <th></th>\n",
       "      <th>Open</th>\n",
       "      <th>High</th>\n",
       "      <th>Low</th>\n",
       "      <th>Close</th>\n",
       "      <th>Adj Close</th>\n",
       "      <th>Volume</th>\n",
       "    </tr>\n",
       "  </thead>\n",
       "  <tbody>\n",
       "    <tr>\n",
       "      <th>count</th>\n",
       "      <td>1257.000000</td>\n",
       "      <td>1257.000000</td>\n",
       "      <td>1257.000000</td>\n",
       "      <td>1257.000000</td>\n",
       "      <td>1257.000000</td>\n",
       "      <td>1.257000e+03</td>\n",
       "    </tr>\n",
       "    <tr>\n",
       "      <th>mean</th>\n",
       "      <td>81.663763</td>\n",
       "      <td>82.568616</td>\n",
       "      <td>80.686842</td>\n",
       "      <td>81.606110</td>\n",
       "      <td>78.096290</td>\n",
       "      <td>1.006594e+07</td>\n",
       "    </tr>\n",
       "    <tr>\n",
       "      <th>std</th>\n",
       "      <td>29.015109</td>\n",
       "      <td>29.363094</td>\n",
       "      <td>28.536629</td>\n",
       "      <td>28.913801</td>\n",
       "      <td>28.817504</td>\n",
       "      <td>5.112403e+06</td>\n",
       "    </tr>\n",
       "    <tr>\n",
       "      <th>min</th>\n",
       "      <td>34.459999</td>\n",
       "      <td>35.029999</td>\n",
       "      <td>34.209999</td>\n",
       "      <td>34.360001</td>\n",
       "      <td>30.349722</td>\n",
       "      <td>2.320500e+06</td>\n",
       "    </tr>\n",
       "    <tr>\n",
       "      <th>25%</th>\n",
       "      <td>53.500000</td>\n",
       "      <td>53.790001</td>\n",
       "      <td>52.939999</td>\n",
       "      <td>53.290001</td>\n",
       "      <td>49.265480</td>\n",
       "      <td>6.830300e+06</td>\n",
       "    </tr>\n",
       "    <tr>\n",
       "      <th>50%</th>\n",
       "      <td>86.000000</td>\n",
       "      <td>86.889999</td>\n",
       "      <td>85.019997</td>\n",
       "      <td>86.059998</td>\n",
       "      <td>83.854927</td>\n",
       "      <td>8.977400e+06</td>\n",
       "    </tr>\n",
       "    <tr>\n",
       "      <th>75%</th>\n",
       "      <td>105.769997</td>\n",
       "      <td>106.720001</td>\n",
       "      <td>104.419998</td>\n",
       "      <td>105.559998</td>\n",
       "      <td>103.074684</td>\n",
       "      <td>1.179240e+07</td>\n",
       "    </tr>\n",
       "    <tr>\n",
       "      <th>max</th>\n",
       "      <td>141.610001</td>\n",
       "      <td>145.000000</td>\n",
       "      <td>139.419998</td>\n",
       "      <td>140.660004</td>\n",
       "      <td>135.699219</td>\n",
       "      <td>6.079320e+07</td>\n",
       "    </tr>\n",
       "  </tbody>\n",
       "</table>\n",
       "</div>"
      ],
      "text/plain": [
       "              Open         High          Low        Close    Adj Close  \\\n",
       "count  1257.000000  1257.000000  1257.000000  1257.000000  1257.000000   \n",
       "mean     81.663763    82.568616    80.686842    81.606110    78.096290   \n",
       "std      29.015109    29.363094    28.536629    28.913801    28.817504   \n",
       "min      34.459999    35.029999    34.209999    34.360001    30.349722   \n",
       "25%      53.500000    53.790001    52.939999    53.290001    49.265480   \n",
       "50%      86.000000    86.889999    85.019997    86.059998    83.854927   \n",
       "75%     105.769997   106.720001   104.419998   105.559998   103.074684   \n",
       "max     141.610001   145.000000   139.419998   140.660004   135.699219   \n",
       "\n",
       "             Volume  \n",
       "count  1.257000e+03  \n",
       "mean   1.006594e+07  \n",
       "std    5.112403e+06  \n",
       "min    2.320500e+06  \n",
       "25%    6.830300e+06  \n",
       "50%    8.977400e+06  \n",
       "75%    1.179240e+07  \n",
       "max    6.079320e+07  "
      ]
     },
     "execution_count": 50,
     "metadata": {},
     "output_type": "execute_result"
    }
   ],
   "source": [
    "# Data simple statistics:\n",
    "df_TSM.describe()"
   ]
  },
  {
   "cell_type": "markdown",
   "metadata": {},
   "source": [
    "Read result in Open column:\n",
    "-   count: number of samples (items,...)\n",
    "-   mean: Average values of open values column\n",
    "-   std: Standar deviation of open values column\n",
    "-   min:  Minimal open values\n",
    "-   25%: price_value -> P(open_value $\\leq$ price_value) = 0.25 (The probability of open value less than or equal p1 is 0.25)\n",
    "-   50%, 75%, similarly 25%\n",
    "-   max: Maximal open values"
   ]
  },
  {
   "cell_type": "code",
   "execution_count": 51,
   "metadata": {},
   "outputs": [
    {
     "data": {
      "text/html": [
       "<div>\n",
       "<style scoped>\n",
       "    .dataframe tbody tr th:only-of-type {\n",
       "        vertical-align: middle;\n",
       "    }\n",
       "\n",
       "    .dataframe tbody tr th {\n",
       "        vertical-align: top;\n",
       "    }\n",
       "\n",
       "    .dataframe thead th {\n",
       "        text-align: right;\n",
       "    }\n",
       "</style>\n",
       "<table border=\"1\" class=\"dataframe\">\n",
       "  <thead>\n",
       "    <tr style=\"text-align: right;\">\n",
       "      <th></th>\n",
       "      <th>Open</th>\n",
       "      <th>High</th>\n",
       "      <th>Low</th>\n",
       "      <th>Close</th>\n",
       "      <th>Adj Close</th>\n",
       "      <th>Volume</th>\n",
       "    </tr>\n",
       "    <tr>\n",
       "      <th>Date</th>\n",
       "      <th></th>\n",
       "      <th></th>\n",
       "      <th></th>\n",
       "      <th></th>\n",
       "      <th></th>\n",
       "      <th></th>\n",
       "    </tr>\n",
       "  </thead>\n",
       "  <tbody>\n",
       "    <tr>\n",
       "      <th>2018-11-12</th>\n",
       "      <td>37.860001</td>\n",
       "      <td>37.919998</td>\n",
       "      <td>37.009998</td>\n",
       "      <td>37.060001</td>\n",
       "      <td>32.734589</td>\n",
       "      <td>11666700</td>\n",
       "    </tr>\n",
       "    <tr>\n",
       "      <th>2018-11-13</th>\n",
       "      <td>37.389999</td>\n",
       "      <td>38.119999</td>\n",
       "      <td>37.240002</td>\n",
       "      <td>37.400002</td>\n",
       "      <td>33.034904</td>\n",
       "      <td>15057100</td>\n",
       "    </tr>\n",
       "    <tr>\n",
       "      <th>2018-11-14</th>\n",
       "      <td>38.200001</td>\n",
       "      <td>38.340000</td>\n",
       "      <td>37.369999</td>\n",
       "      <td>37.840000</td>\n",
       "      <td>33.423557</td>\n",
       "      <td>10404900</td>\n",
       "    </tr>\n",
       "    <tr>\n",
       "      <th>2018-11-15</th>\n",
       "      <td>38.070000</td>\n",
       "      <td>38.570000</td>\n",
       "      <td>37.889999</td>\n",
       "      <td>38.520000</td>\n",
       "      <td>34.024189</td>\n",
       "      <td>10840400</td>\n",
       "    </tr>\n",
       "    <tr>\n",
       "      <th>2018-11-16</th>\n",
       "      <td>37.070000</td>\n",
       "      <td>37.200001</td>\n",
       "      <td>36.660000</td>\n",
       "      <td>36.869999</td>\n",
       "      <td>32.566769</td>\n",
       "      <td>16382400</td>\n",
       "    </tr>\n",
       "    <tr>\n",
       "      <th>2018-11-19</th>\n",
       "      <td>36.639999</td>\n",
       "      <td>36.680000</td>\n",
       "      <td>35.959999</td>\n",
       "      <td>36.049999</td>\n",
       "      <td>31.842464</td>\n",
       "      <td>15191700</td>\n",
       "    </tr>\n",
       "    <tr>\n",
       "      <th>2018-11-20</th>\n",
       "      <td>35.400002</td>\n",
       "      <td>35.990002</td>\n",
       "      <td>35.220001</td>\n",
       "      <td>35.639999</td>\n",
       "      <td>31.480324</td>\n",
       "      <td>11673500</td>\n",
       "    </tr>\n",
       "    <tr>\n",
       "      <th>2018-11-21</th>\n",
       "      <td>36.419998</td>\n",
       "      <td>36.720001</td>\n",
       "      <td>36.139999</td>\n",
       "      <td>36.169998</td>\n",
       "      <td>31.948469</td>\n",
       "      <td>7013100</td>\n",
       "    </tr>\n",
       "    <tr>\n",
       "      <th>2018-11-23</th>\n",
       "      <td>35.830002</td>\n",
       "      <td>36.200001</td>\n",
       "      <td>35.750000</td>\n",
       "      <td>35.959999</td>\n",
       "      <td>31.762968</td>\n",
       "      <td>2320500</td>\n",
       "    </tr>\n",
       "    <tr>\n",
       "      <th>2018-11-26</th>\n",
       "      <td>36.709999</td>\n",
       "      <td>36.889999</td>\n",
       "      <td>36.470001</td>\n",
       "      <td>36.840000</td>\n",
       "      <td>32.540264</td>\n",
       "      <td>7077300</td>\n",
       "    </tr>\n",
       "  </tbody>\n",
       "</table>\n",
       "</div>"
      ],
      "text/plain": [
       "                 Open       High        Low      Close  Adj Close    Volume\n",
       "Date                                                                       \n",
       "2018-11-12  37.860001  37.919998  37.009998  37.060001  32.734589  11666700\n",
       "2018-11-13  37.389999  38.119999  37.240002  37.400002  33.034904  15057100\n",
       "2018-11-14  38.200001  38.340000  37.369999  37.840000  33.423557  10404900\n",
       "2018-11-15  38.070000  38.570000  37.889999  38.520000  34.024189  10840400\n",
       "2018-11-16  37.070000  37.200001  36.660000  36.869999  32.566769  16382400\n",
       "2018-11-19  36.639999  36.680000  35.959999  36.049999  31.842464  15191700\n",
       "2018-11-20  35.400002  35.990002  35.220001  35.639999  31.480324  11673500\n",
       "2018-11-21  36.419998  36.720001  36.139999  36.169998  31.948469   7013100\n",
       "2018-11-23  35.830002  36.200001  35.750000  35.959999  31.762968   2320500\n",
       "2018-11-26  36.709999  36.889999  36.470001  36.840000  32.540264   7077300"
      ]
     },
     "execution_count": 51,
     "metadata": {},
     "output_type": "execute_result"
    }
   ],
   "source": [
    "# Showing first ten rows in our dataframe\n",
    "df_TSM.head(10)"
   ]
  },
  {
   "cell_type": "code",
   "execution_count": 52,
   "metadata": {},
   "outputs": [],
   "source": [
    "df_TSM[\"Y_price\"] = (df_TSM[\"Open\"] + df_TSM[\"Close\"])/2\n",
    "df_TSM[\"Y_error\"] = (df_TSM[\"Open\"] - df_TSM[\"Close\"]).abs()/2\n",
    "df_TSM[\"HL\"] = (df_TSM[\"High\"] + df_TSM[\"Low\"])/2\n",
    "df_TSM[\"HL_error\"] = (df_TSM[\"High\"] - df_TSM[\"Low\"]).abs()/2\n",
    "df_TSM[\"IsPositive\"] = df_TSM[\"Close\"] >= df_TSM[\"Open\"]"
   ]
  },
  {
   "cell_type": "code",
   "execution_count": 53,
   "metadata": {},
   "outputs": [
    {
     "data": {
      "text/html": [
       "<div>\n",
       "<style scoped>\n",
       "    .dataframe tbody tr th:only-of-type {\n",
       "        vertical-align: middle;\n",
       "    }\n",
       "\n",
       "    .dataframe tbody tr th {\n",
       "        vertical-align: top;\n",
       "    }\n",
       "\n",
       "    .dataframe thead th {\n",
       "        text-align: right;\n",
       "    }\n",
       "</style>\n",
       "<table border=\"1\" class=\"dataframe\">\n",
       "  <thead>\n",
       "    <tr style=\"text-align: right;\">\n",
       "      <th></th>\n",
       "      <th>Open</th>\n",
       "      <th>High</th>\n",
       "      <th>Low</th>\n",
       "      <th>Close</th>\n",
       "      <th>Adj Close</th>\n",
       "      <th>Volume</th>\n",
       "      <th>Y_price</th>\n",
       "      <th>Y_error</th>\n",
       "      <th>HL</th>\n",
       "      <th>HL_error</th>\n",
       "      <th>IsPositive</th>\n",
       "    </tr>\n",
       "    <tr>\n",
       "      <th>Date</th>\n",
       "      <th></th>\n",
       "      <th></th>\n",
       "      <th></th>\n",
       "      <th></th>\n",
       "      <th></th>\n",
       "      <th></th>\n",
       "      <th></th>\n",
       "      <th></th>\n",
       "      <th></th>\n",
       "      <th></th>\n",
       "      <th></th>\n",
       "    </tr>\n",
       "  </thead>\n",
       "  <tbody>\n",
       "    <tr>\n",
       "      <th>2018-11-12</th>\n",
       "      <td>37.860001</td>\n",
       "      <td>37.919998</td>\n",
       "      <td>37.009998</td>\n",
       "      <td>37.060001</td>\n",
       "      <td>32.734589</td>\n",
       "      <td>11666700</td>\n",
       "      <td>37.460001</td>\n",
       "      <td>0.400000</td>\n",
       "      <td>37.464998</td>\n",
       "      <td>0.455000</td>\n",
       "      <td>False</td>\n",
       "    </tr>\n",
       "    <tr>\n",
       "      <th>2018-11-13</th>\n",
       "      <td>37.389999</td>\n",
       "      <td>38.119999</td>\n",
       "      <td>37.240002</td>\n",
       "      <td>37.400002</td>\n",
       "      <td>33.034904</td>\n",
       "      <td>15057100</td>\n",
       "      <td>37.395000</td>\n",
       "      <td>0.005001</td>\n",
       "      <td>37.680000</td>\n",
       "      <td>0.439999</td>\n",
       "      <td>True</td>\n",
       "    </tr>\n",
       "    <tr>\n",
       "      <th>2018-11-14</th>\n",
       "      <td>38.200001</td>\n",
       "      <td>38.340000</td>\n",
       "      <td>37.369999</td>\n",
       "      <td>37.840000</td>\n",
       "      <td>33.423557</td>\n",
       "      <td>10404900</td>\n",
       "      <td>38.020000</td>\n",
       "      <td>0.180000</td>\n",
       "      <td>37.855000</td>\n",
       "      <td>0.485001</td>\n",
       "      <td>False</td>\n",
       "    </tr>\n",
       "    <tr>\n",
       "      <th>2018-11-15</th>\n",
       "      <td>38.070000</td>\n",
       "      <td>38.570000</td>\n",
       "      <td>37.889999</td>\n",
       "      <td>38.520000</td>\n",
       "      <td>34.024189</td>\n",
       "      <td>10840400</td>\n",
       "      <td>38.295000</td>\n",
       "      <td>0.225000</td>\n",
       "      <td>38.230000</td>\n",
       "      <td>0.340000</td>\n",
       "      <td>True</td>\n",
       "    </tr>\n",
       "    <tr>\n",
       "      <th>2018-11-16</th>\n",
       "      <td>37.070000</td>\n",
       "      <td>37.200001</td>\n",
       "      <td>36.660000</td>\n",
       "      <td>36.869999</td>\n",
       "      <td>32.566769</td>\n",
       "      <td>16382400</td>\n",
       "      <td>36.969999</td>\n",
       "      <td>0.100000</td>\n",
       "      <td>36.930000</td>\n",
       "      <td>0.270000</td>\n",
       "      <td>False</td>\n",
       "    </tr>\n",
       "  </tbody>\n",
       "</table>\n",
       "</div>"
      ],
      "text/plain": [
       "                 Open       High        Low      Close  Adj Close    Volume  \\\n",
       "Date                                                                          \n",
       "2018-11-12  37.860001  37.919998  37.009998  37.060001  32.734589  11666700   \n",
       "2018-11-13  37.389999  38.119999  37.240002  37.400002  33.034904  15057100   \n",
       "2018-11-14  38.200001  38.340000  37.369999  37.840000  33.423557  10404900   \n",
       "2018-11-15  38.070000  38.570000  37.889999  38.520000  34.024189  10840400   \n",
       "2018-11-16  37.070000  37.200001  36.660000  36.869999  32.566769  16382400   \n",
       "\n",
       "              Y_price   Y_error         HL  HL_error  IsPositive  \n",
       "Date                                                              \n",
       "2018-11-12  37.460001  0.400000  37.464998  0.455000       False  \n",
       "2018-11-13  37.395000  0.005001  37.680000  0.439999        True  \n",
       "2018-11-14  38.020000  0.180000  37.855000  0.485001       False  \n",
       "2018-11-15  38.295000  0.225000  38.230000  0.340000        True  \n",
       "2018-11-16  36.969999  0.100000  36.930000  0.270000       False  "
      ]
     },
     "execution_count": 53,
     "metadata": {},
     "output_type": "execute_result"
    }
   ],
   "source": [
    "df_TSM.head()"
   ]
  },
  {
   "cell_type": "code",
   "execution_count": 54,
   "metadata": {},
   "outputs": [],
   "source": [
    "plot_df_TSM = df_TSM.tail(100)"
   ]
  },
  {
   "cell_type": "code",
   "execution_count": 55,
   "metadata": {},
   "outputs": [
    {
     "data": {
      "text/plain": [
       "Date\n",
       "2023-06-21    False\n",
       "2023-06-22     True\n",
       "2023-06-23     True\n",
       "2023-06-26    False\n",
       "2023-06-27     True\n",
       "              ...  \n",
       "2023-11-03     True\n",
       "2023-11-06     True\n",
       "2023-11-07     True\n",
       "2023-11-08    False\n",
       "2023-11-09    False\n",
       "Name: IsPositive, Length: 100, dtype: bool"
      ]
     },
     "execution_count": 55,
     "metadata": {},
     "output_type": "execute_result"
    }
   ],
   "source": [
    "plot_df_TSM[\"IsPositive\"]"
   ]
  },
  {
   "cell_type": "code",
   "execution_count": 60,
   "metadata": {},
   "outputs": [
    {
     "data": {
      "image/png": "[encoded data removed]",
      "text/plain": [
       "<Figure size 1500x500 with 1 Axes>"
      ]
     },
     "metadata": {},
     "output_type": "display_data"
    }
   ],
   "source": [
    "# Visualize data\n",
    "# Plot graph of time-series data type\n",
    "from matplotlib import pyplot as plt\n",
    "import matplotlib\n",
    "\n",
    "colors = {True:'red',False:'green'}\n",
    "\n",
    "fig, ax = plt.subplots(1,1,figsize = (15,5))\n",
    "# ax.plot(plot_df_TSM.index.tolist(),plot_df_TSM[\"Open\"],color='g')\n",
    "# ax.plot(plot_df_TSM.index.tolist(),plot_df_TSM[\"Close\"],color='red')\n",
    "ax.errorbar(plot_df_TSM.index.tolist(),\n",
    "            plot_df_TSM[\"Y_price\"],\n",
    "            plot_df_TSM[\"Y_error\"],\n",
    "            linewidth = 5, \n",
    "            capsize=0,\n",
    "            ls='none',\n",
    "            ecolor = plot_df_TSM['IsPositive'].map(colors))\n",
    "ax.errorbar(plot_df_TSM.index.tolist(),plot_df_TSM[\"HL\"],plot_df_TSM[\"HL_error\"],linewidth = 1, capsize=3,color='k',ls='none')\n",
    "fig.suptitle(\"Graph of open value with time value_open = f(date_time)\")\n",
    "ax.set_xlabel(\"Date_time\")\n",
    "ax.set_ylabel(\"Open\")\n",
    "ax.set_xticks(plot_df_TSM.index.tolist()[::5]) #Without this it is too dense, with this we only display every after 60 xticks\n",
    "ax.set_xticklabels(ax.get_xticklabels(),rotation = 40, ha = 'center')# Shearing the labels to 40 degree and write it in center\n",
    "plt.show()"
   ]
  }
 ],
 "metadata": {
  "kernelspec": {
   "display_name": "ASINK_Demo",
   "language": "python",
   "name": "python3"
  },
  "language_info": {
   "codemirror_mode": {
    "name": "ipython",
    "version": 3
   },
   "file_extension": ".py",
   "mimetype": "text/x-python",
   "name": "python",
   "nbconvert_exporter": "python",
   "pygments_lexer": "ipython3",
   "version": "3.10.13"
  }
 },
 "nbformat": 4,
 "nbformat_minor": 2
}

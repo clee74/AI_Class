{
 "cells": [
  {
   "cell_type": "markdown",
   "metadata": {},
   "source": [
    "# Demo: Getting the data stock daily update by using the yfinance library\n",
    "In this demo of code we use the yfinance library to obtain the daily update data stock.\n",
    "There are some package we will get in touch with:\n",
    "-   pandas\n",
    "-   yfinance\n",
    "-   datatime\n",
    "-   bs4\n",
    "-   requests"
   ]
  },
  {
   "cell_type": "code",
   "execution_count": 1,
   "metadata": {},
   "outputs": [],
   "source": [
    "# import package\n",
    "import pandas as pd\n",
    "from datetime import datetime\n",
    "from dateutil.relativedelta import relativedelta\n",
    "import requests\n",
    "from bs4 import BeautifulSoup\n",
    "import yfinance"
   ]
  },
  {
   "cell_type": "code",
   "execution_count": 2,
   "metadata": {},
   "outputs": [],
   "source": [
    "# Getting most n famous tickers: Company Name, Company Code\n",
    "n_tickers = 10\n",
    "html = requests.get('https://companiesmarketcap.com/tech/largest-tech-companies-by-market-cap/').text\n",
    "soup = BeautifulSoup(html, 'html.parser')\n",
    "companyName = [x.get_text(strip=True) for x in soup.find_all('div', {'class': 'company-name'})][:n_tickers]\n",
    "companyCode = [x.get_text(strip=True) for x in soup.find_all('div', {'class': 'company-code'})][:n_tickers]"
   ]
  },
  {
   "cell_type": "code",
   "execution_count": 3,
   "metadata": {},
   "outputs": [
    {
     "name": "stdout",
     "output_type": "stream",
     "text": [
      "['AAPL', 'MSFT', 'GOOG', 'AMZN', 'NVDA', 'META', 'TSLA', 'TSM', 'TCEHY', 'AVGO']\n"
     ]
    }
   ],
   "source": [
    "print(companyCode)"
   ]
  },
  {
   "cell_type": "code",
   "execution_count": 4,
   "metadata": {},
   "outputs": [
    {
     "name": "stdout",
     "output_type": "stream",
     "text": [
      "['Apple', 'Microsoft', 'Alphabet (Google)', 'Amazon', 'NVIDIA', 'Meta Platforms (Facebook)', 'Tesla', 'TSMC', 'Tencent', 'Broadcom']\n"
     ]
    }
   ],
   "source": [
    "print(companyName)"
   ]
  },
  {
   "cell_type": "code",
   "execution_count": 5,
   "metadata": {},
   "outputs": [
    {
     "name": "stdout",
     "output_type": "stream",
     "text": [
      "2018-11-09 16:57:51.857388\n",
      "2023-11-09 16:57:51.857612\n",
      "[*********************100%%**********************]  1 of 1 completed\n"
     ]
    }
   ],
   "source": [
    "# Getting stock data of Company Name: TSMC with Company Code: TSM\n",
    "\"\"\"\n",
    "-   start_date: start time to getting data stock\n",
    "-   end_data: end time to getting data stock\n",
    "-   data_source: where to getting data\n",
    "\"\"\"\n",
    "now = datetime.now()\n",
    "data_source = 'yahoo'\n",
    "start_date = now.today() - relativedelta(years  = 5)\n",
    "end_date = now.today()\n",
    "print(start_date)\n",
    "print(end_date)\n",
    "df_TSM = yfinance.download(\"TSM\",start=start_date,end=end_date)"
   ]
  },
  {
   "cell_type": "markdown",
   "metadata": {},
   "source": [
    "# Exploring the data:\n",
    "-   Type of data in python\n",
    "-   Metadata information\n",
    "-   Simple statistics of data\n",
    "-   Visualize data"
   ]
  },
  {
   "cell_type": "code",
   "execution_count": 6,
   "metadata": {},
   "outputs": [
    {
     "name": "stdout",
     "output_type": "stream",
     "text": [
      "<class 'pandas.core.frame.DataFrame'>\n"
     ]
    }
   ],
   "source": [
    "# Type of data after getting from yfinance:\n",
    "print(type(df_TSM))"
   ]
  },
  {
   "cell_type": "markdown",
   "metadata": {},
   "source": [
    "The type of data after getting from yfinance is DataFrame type in Pandas library"
   ]
  },
  {
   "cell_type": "code",
   "execution_count": 7,
   "metadata": {},
   "outputs": [
    {
     "name": "stdout",
     "output_type": "stream",
     "text": [
      "<class 'pandas.core.frame.DataFrame'>\n",
      "DatetimeIndex: 1257 entries, 2018-11-09 to 2023-11-08\n",
      "Data columns (total 6 columns):\n",
      " #   Column     Non-Null Count  Dtype  \n",
      "---  ------     --------------  -----  \n",
      " 0   Open       1257 non-null   float64\n",
      " 1   High       1257 non-null   float64\n",
      " 2   Low        1257 non-null   float64\n",
      " 3   Close      1257 non-null   float64\n",
      " 4   Adj Close  1257 non-null   float64\n",
      " 5   Volume     1257 non-null   int64  \n",
      "dtypes: float64(5), int64(1)\n",
      "memory usage: 68.7 KB\n"
     ]
    }
   ],
   "source": [
    "# Data info:\n",
    "df_TSM.info()"
   ]
  },
  {
   "cell_type": "markdown",
   "metadata": {},
   "source": [
    "There are 6 features for each row:\n",
    "-   One row is data for one day\n",
    "-   Each day: \n",
    "    -   Open: The price when the market opened in the morning\n",
    "    -   High: The highest price during that trading day\n",
    "    -   Low: The lowest price duing that trading day.\n",
    "    -   Close: The price when the market closed in the afternoon\n",
    "    -   Adj Close: A price adjusted to make prices comparable over time\n",
    "    -   Volumn: Number of shares of the stock traded that day."
   ]
  },
  {
   "cell_type": "code",
   "execution_count": 8,
   "metadata": {},
   "outputs": [
    {
     "data": {
      "text/html": [
       "<div>\n",
       "<style scoped>\n",
       "    .dataframe tbody tr th:only-of-type {\n",
       "        vertical-align: middle;\n",
       "    }\n",
       "\n",
       "    .dataframe tbody tr th {\n",
       "        vertical-align: top;\n",
       "    }\n",
       "\n",
       "    .dataframe thead th {\n",
       "        text-align: right;\n",
       "    }\n",
       "</style>\n",
       "<table border=\"1\" class=\"dataframe\">\n",
       "  <thead>\n",
       "    <tr style=\"text-align: right;\">\n",
       "      <th></th>\n",
       "      <th>Open</th>\n",
       "      <th>High</th>\n",
       "      <th>Low</th>\n",
       "      <th>Close</th>\n",
       "      <th>Adj Close</th>\n",
       "      <th>Volume</th>\n",
       "    </tr>\n",
       "  </thead>\n",
       "  <tbody>\n",
       "    <tr>\n",
       "      <th>count</th>\n",
       "      <td>1257.000000</td>\n",
       "      <td>1257.000000</td>\n",
       "      <td>1257.000000</td>\n",
       "      <td>1257.000000</td>\n",
       "      <td>1257.000000</td>\n",
       "      <td>1.257000e+03</td>\n",
       "    </tr>\n",
       "    <tr>\n",
       "      <th>mean</th>\n",
       "      <td>81.620374</td>\n",
       "      <td>82.524877</td>\n",
       "      <td>80.644049</td>\n",
       "      <td>81.563508</td>\n",
       "      <td>78.050154</td>\n",
       "      <td>1.006420e+07</td>\n",
       "    </tr>\n",
       "    <tr>\n",
       "      <th>std</th>\n",
       "      <td>29.039466</td>\n",
       "      <td>29.387930</td>\n",
       "      <td>28.560572</td>\n",
       "      <td>28.938475</td>\n",
       "      <td>28.842248</td>\n",
       "      <td>5.113423e+06</td>\n",
       "    </tr>\n",
       "    <tr>\n",
       "      <th>min</th>\n",
       "      <td>34.459999</td>\n",
       "      <td>35.029999</td>\n",
       "      <td>34.209999</td>\n",
       "      <td>34.360001</td>\n",
       "      <td>30.349710</td>\n",
       "      <td>2.320500e+06</td>\n",
       "    </tr>\n",
       "    <tr>\n",
       "      <th>25%</th>\n",
       "      <td>53.389999</td>\n",
       "      <td>53.779999</td>\n",
       "      <td>52.880001</td>\n",
       "      <td>53.290001</td>\n",
       "      <td>49.263077</td>\n",
       "      <td>6.827700e+06</td>\n",
       "    </tr>\n",
       "    <tr>\n",
       "      <th>50%</th>\n",
       "      <td>85.959999</td>\n",
       "      <td>86.830002</td>\n",
       "      <td>85.019997</td>\n",
       "      <td>86.050003</td>\n",
       "      <td>83.851776</td>\n",
       "      <td>8.977400e+06</td>\n",
       "    </tr>\n",
       "    <tr>\n",
       "      <th>75%</th>\n",
       "      <td>105.769997</td>\n",
       "      <td>106.720001</td>\n",
       "      <td>104.419998</td>\n",
       "      <td>105.559998</td>\n",
       "      <td>103.074677</td>\n",
       "      <td>1.179240e+07</td>\n",
       "    </tr>\n",
       "    <tr>\n",
       "      <th>max</th>\n",
       "      <td>141.610001</td>\n",
       "      <td>145.000000</td>\n",
       "      <td>139.419998</td>\n",
       "      <td>140.660004</td>\n",
       "      <td>135.699219</td>\n",
       "      <td>6.079320e+07</td>\n",
       "    </tr>\n",
       "  </tbody>\n",
       "</table>\n",
       "</div>"
      ],
      "text/plain": [
       "              Open         High          Low        Close    Adj Close  \\\n",
       "count  1257.000000  1257.000000  1257.000000  1257.000000  1257.000000   \n",
       "mean     81.620374    82.524877    80.644049    81.563508    78.050154   \n",
       "std      29.039466    29.387930    28.560572    28.938475    28.842248   \n",
       "min      34.459999    35.029999    34.209999    34.360001    30.349710   \n",
       "25%      53.389999    53.779999    52.880001    53.290001    49.263077   \n",
       "50%      85.959999    86.830002    85.019997    86.050003    83.851776   \n",
       "75%     105.769997   106.720001   104.419998   105.559998   103.074677   \n",
       "max     141.610001   145.000000   139.419998   140.660004   135.699219   \n",
       "\n",
       "             Volume  \n",
       "count  1.257000e+03  \n",
       "mean   1.006420e+07  \n",
       "std    5.113423e+06  \n",
       "min    2.320500e+06  \n",
       "25%    6.827700e+06  \n",
       "50%    8.977400e+06  \n",
       "75%    1.179240e+07  \n",
       "max    6.079320e+07  "
      ]
     },
     "execution_count": 8,
     "metadata": {},
     "output_type": "execute_result"
    }
   ],
   "source": [
    "# Data simple statistics:\n",
    "df_TSM.describe()"
   ]
  },
  {
   "cell_type": "markdown",
   "metadata": {},
   "source": [
    "Read result in Open column:\n",
    "-   count: number of samples (items,...)\n",
    "-   mean: Average values of open values column\n",
    "-   std: Standar deviation of open values column\n",
    "-   min:  Minimal open values\n",
    "-   25%: price_value -> P(open_value $\\leq$ price_value) = 0.25 (The probability of open value less than or equal p1 is 0.25)\n",
    "-   50%, 75%, similarly 25%\n",
    "-   max: Maximal open values"
   ]
  },
  {
   "cell_type": "code",
   "execution_count": 9,
   "metadata": {},
   "outputs": [
    {
     "data": {
      "text/html": [
       "<div>\n",
       "<style scoped>\n",
       "    .dataframe tbody tr th:only-of-type {\n",
       "        vertical-align: middle;\n",
       "    }\n",
       "\n",
       "    .dataframe tbody tr th {\n",
       "        vertical-align: top;\n",
       "    }\n",
       "\n",
       "    .dataframe thead th {\n",
       "        text-align: right;\n",
       "    }\n",
       "</style>\n",
       "<table border=\"1\" class=\"dataframe\">\n",
       "  <thead>\n",
       "    <tr style=\"text-align: right;\">\n",
       "      <th></th>\n",
       "      <th>Open</th>\n",
       "      <th>High</th>\n",
       "      <th>Low</th>\n",
       "      <th>Close</th>\n",
       "      <th>Adj Close</th>\n",
       "      <th>Volume</th>\n",
       "    </tr>\n",
       "    <tr>\n",
       "      <th>Date</th>\n",
       "      <th></th>\n",
       "      <th></th>\n",
       "      <th></th>\n",
       "      <th></th>\n",
       "      <th></th>\n",
       "      <th></th>\n",
       "    </tr>\n",
       "  </thead>\n",
       "  <tbody>\n",
       "    <tr>\n",
       "      <th>2018-11-09</th>\n",
       "      <td>38.090000</td>\n",
       "      <td>38.389999</td>\n",
       "      <td>37.810001</td>\n",
       "      <td>38.070000</td>\n",
       "      <td>33.626705</td>\n",
       "      <td>5975400</td>\n",
       "    </tr>\n",
       "    <tr>\n",
       "      <th>2018-11-12</th>\n",
       "      <td>37.860001</td>\n",
       "      <td>37.919998</td>\n",
       "      <td>37.009998</td>\n",
       "      <td>37.060001</td>\n",
       "      <td>32.734592</td>\n",
       "      <td>11666700</td>\n",
       "    </tr>\n",
       "    <tr>\n",
       "      <th>2018-11-13</th>\n",
       "      <td>37.389999</td>\n",
       "      <td>38.119999</td>\n",
       "      <td>37.240002</td>\n",
       "      <td>37.400002</td>\n",
       "      <td>33.034904</td>\n",
       "      <td>15057100</td>\n",
       "    </tr>\n",
       "    <tr>\n",
       "      <th>2018-11-14</th>\n",
       "      <td>38.200001</td>\n",
       "      <td>38.340000</td>\n",
       "      <td>37.369999</td>\n",
       "      <td>37.840000</td>\n",
       "      <td>33.423561</td>\n",
       "      <td>10404900</td>\n",
       "    </tr>\n",
       "    <tr>\n",
       "      <th>2018-11-15</th>\n",
       "      <td>38.070000</td>\n",
       "      <td>38.570000</td>\n",
       "      <td>37.889999</td>\n",
       "      <td>38.520000</td>\n",
       "      <td>34.024193</td>\n",
       "      <td>10840400</td>\n",
       "    </tr>\n",
       "    <tr>\n",
       "      <th>2018-11-16</th>\n",
       "      <td>37.070000</td>\n",
       "      <td>37.200001</td>\n",
       "      <td>36.660000</td>\n",
       "      <td>36.869999</td>\n",
       "      <td>32.566757</td>\n",
       "      <td>16382400</td>\n",
       "    </tr>\n",
       "    <tr>\n",
       "      <th>2018-11-19</th>\n",
       "      <td>36.639999</td>\n",
       "      <td>36.680000</td>\n",
       "      <td>35.959999</td>\n",
       "      <td>36.049999</td>\n",
       "      <td>31.842476</td>\n",
       "      <td>15191700</td>\n",
       "    </tr>\n",
       "    <tr>\n",
       "      <th>2018-11-20</th>\n",
       "      <td>35.400002</td>\n",
       "      <td>35.990002</td>\n",
       "      <td>35.220001</td>\n",
       "      <td>35.639999</td>\n",
       "      <td>31.480316</td>\n",
       "      <td>11673500</td>\n",
       "    </tr>\n",
       "    <tr>\n",
       "      <th>2018-11-21</th>\n",
       "      <td>36.419998</td>\n",
       "      <td>36.720001</td>\n",
       "      <td>36.139999</td>\n",
       "      <td>36.169998</td>\n",
       "      <td>31.948469</td>\n",
       "      <td>7013100</td>\n",
       "    </tr>\n",
       "    <tr>\n",
       "      <th>2018-11-23</th>\n",
       "      <td>35.830002</td>\n",
       "      <td>36.200001</td>\n",
       "      <td>35.750000</td>\n",
       "      <td>35.959999</td>\n",
       "      <td>31.762968</td>\n",
       "      <td>2320500</td>\n",
       "    </tr>\n",
       "  </tbody>\n",
       "</table>\n",
       "</div>"
      ],
      "text/plain": [
       "                 Open       High        Low      Close  Adj Close    Volume\n",
       "Date                                                                       \n",
       "2018-11-09  38.090000  38.389999  37.810001  38.070000  33.626705   5975400\n",
       "2018-11-12  37.860001  37.919998  37.009998  37.060001  32.734592  11666700\n",
       "2018-11-13  37.389999  38.119999  37.240002  37.400002  33.034904  15057100\n",
       "2018-11-14  38.200001  38.340000  37.369999  37.840000  33.423561  10404900\n",
       "2018-11-15  38.070000  38.570000  37.889999  38.520000  34.024193  10840400\n",
       "2018-11-16  37.070000  37.200001  36.660000  36.869999  32.566757  16382400\n",
       "2018-11-19  36.639999  36.680000  35.959999  36.049999  31.842476  15191700\n",
       "2018-11-20  35.400002  35.990002  35.220001  35.639999  31.480316  11673500\n",
       "2018-11-21  36.419998  36.720001  36.139999  36.169998  31.948469   7013100\n",
       "2018-11-23  35.830002  36.200001  35.750000  35.959999  31.762968   2320500"
      ]
     },
     "execution_count": 9,
     "metadata": {},
     "output_type": "execute_result"
    }
   ],
   "source": [
    "# Showing first ten rows in our dataframe\n",
    "df_TSM.head(10)"
   ]
  },
  {
   "cell_type": "code",
   "execution_count": 13,
   "metadata": {},
   "outputs": [],
   "source": [
    "df_TSM[\"Y_price\"] = (df_TSM[\"Open\"] + df_TSM[\"Close\"])/2\n",
    "df_TSM[\"Y_error\"] = (df_TSM[\"Open\"] - df_TSM[\"Close\"]).abs()/2\n",
    "df_TSM[\"HL\"] = (df_TSM[\"High\"] + df_TSM[\"Low\"])/2\n",
    "df_TSM[\"HL_error\"] = (df_TSM[\"High\"] - df_TSM[\"Low\"]).abs()/2"
   ]
  },
  {
   "cell_type": "code",
   "execution_count": 14,
   "metadata": {},
   "outputs": [
    {
     "data": {
      "text/html": [
       "<div>\n",
       "<style scoped>\n",
       "    .dataframe tbody tr th:only-of-type {\n",
       "        vertical-align: middle;\n",
       "    }\n",
       "\n",
       "    .dataframe tbody tr th {\n",
       "        vertical-align: top;\n",
       "    }\n",
       "\n",
       "    .dataframe thead th {\n",
       "        text-align: right;\n",
       "    }\n",
       "</style>\n",
       "<table border=\"1\" class=\"dataframe\">\n",
       "  <thead>\n",
       "    <tr style=\"text-align: right;\">\n",
       "      <th></th>\n",
       "      <th>Open</th>\n",
       "      <th>High</th>\n",
       "      <th>Low</th>\n",
       "      <th>Close</th>\n",
       "      <th>Adj Close</th>\n",
       "      <th>Volume</th>\n",
       "      <th>Y_price</th>\n",
       "      <th>Y_error</th>\n",
       "      <th>HL</th>\n",
       "      <th>HL_error</th>\n",
       "    </tr>\n",
       "    <tr>\n",
       "      <th>Date</th>\n",
       "      <th></th>\n",
       "      <th></th>\n",
       "      <th></th>\n",
       "      <th></th>\n",
       "      <th></th>\n",
       "      <th></th>\n",
       "      <th></th>\n",
       "      <th></th>\n",
       "      <th></th>\n",
       "      <th></th>\n",
       "    </tr>\n",
       "  </thead>\n",
       "  <tbody>\n",
       "    <tr>\n",
       "      <th>2018-11-09</th>\n",
       "      <td>38.090000</td>\n",
       "      <td>38.389999</td>\n",
       "      <td>37.810001</td>\n",
       "      <td>38.070000</td>\n",
       "      <td>33.626705</td>\n",
       "      <td>5975400</td>\n",
       "      <td>38.080000</td>\n",
       "      <td>0.010000</td>\n",
       "      <td>38.100000</td>\n",
       "      <td>0.289999</td>\n",
       "    </tr>\n",
       "    <tr>\n",
       "      <th>2018-11-12</th>\n",
       "      <td>37.860001</td>\n",
       "      <td>37.919998</td>\n",
       "      <td>37.009998</td>\n",
       "      <td>37.060001</td>\n",
       "      <td>32.734592</td>\n",
       "      <td>11666700</td>\n",
       "      <td>37.460001</td>\n",
       "      <td>0.400000</td>\n",
       "      <td>37.464998</td>\n",
       "      <td>0.455000</td>\n",
       "    </tr>\n",
       "    <tr>\n",
       "      <th>2018-11-13</th>\n",
       "      <td>37.389999</td>\n",
       "      <td>38.119999</td>\n",
       "      <td>37.240002</td>\n",
       "      <td>37.400002</td>\n",
       "      <td>33.034904</td>\n",
       "      <td>15057100</td>\n",
       "      <td>37.395000</td>\n",
       "      <td>0.005001</td>\n",
       "      <td>37.680000</td>\n",
       "      <td>0.439999</td>\n",
       "    </tr>\n",
       "    <tr>\n",
       "      <th>2018-11-14</th>\n",
       "      <td>38.200001</td>\n",
       "      <td>38.340000</td>\n",
       "      <td>37.369999</td>\n",
       "      <td>37.840000</td>\n",
       "      <td>33.423561</td>\n",
       "      <td>10404900</td>\n",
       "      <td>38.020000</td>\n",
       "      <td>0.180000</td>\n",
       "      <td>37.855000</td>\n",
       "      <td>0.485001</td>\n",
       "    </tr>\n",
       "    <tr>\n",
       "      <th>2018-11-15</th>\n",
       "      <td>38.070000</td>\n",
       "      <td>38.570000</td>\n",
       "      <td>37.889999</td>\n",
       "      <td>38.520000</td>\n",
       "      <td>34.024193</td>\n",
       "      <td>10840400</td>\n",
       "      <td>38.295000</td>\n",
       "      <td>0.225000</td>\n",
       "      <td>38.230000</td>\n",
       "      <td>0.340000</td>\n",
       "    </tr>\n",
       "  </tbody>\n",
       "</table>\n",
       "</div>"
      ],
      "text/plain": [
       "                 Open       High        Low      Close  Adj Close    Volume  \\\n",
       "Date                                                                          \n",
       "2018-11-09  38.090000  38.389999  37.810001  38.070000  33.626705   5975400   \n",
       "2018-11-12  37.860001  37.919998  37.009998  37.060001  32.734592  11666700   \n",
       "2018-11-13  37.389999  38.119999  37.240002  37.400002  33.034904  15057100   \n",
       "2018-11-14  38.200001  38.340000  37.369999  37.840000  33.423561  10404900   \n",
       "2018-11-15  38.070000  38.570000  37.889999  38.520000  34.024193  10840400   \n",
       "\n",
       "              Y_price   Y_error         HL  HL_error  \n",
       "Date                                                  \n",
       "2018-11-09  38.080000  0.010000  38.100000  0.289999  \n",
       "2018-11-12  37.460001  0.400000  37.464998  0.455000  \n",
       "2018-11-13  37.395000  0.005001  37.680000  0.439999  \n",
       "2018-11-14  38.020000  0.180000  37.855000  0.485001  \n",
       "2018-11-15  38.295000  0.225000  38.230000  0.340000  "
      ]
     },
     "execution_count": 14,
     "metadata": {},
     "output_type": "execute_result"
    }
   ],
   "source": [
    "df_TSM.head()"
   ]
  },
  {
   "cell_type": "code",
   "execution_count": 36,
   "metadata": {},
   "outputs": [],
   "source": [
    "plot_df_TSM = df_TSM.tail(100)"
   ]
  },
  {
   "cell_type": "code",
   "execution_count": 46,
   "metadata": {},
   "outputs": [
    {
     "data": {
      "image/png": "[encoded data removed]",
      "text/plain": [
       "<Figure size 1500x500 with 1 Axes>"
      ]
     },
     "metadata": {},
     "output_type": "display_data"
    }
   ],
   "source": [
    "# Visualize data\n",
    "# Plot graph of time-series data type\n",
    "from matplotlib import pyplot as plt\n",
    "import matplotlib\n",
    "\n",
    "\n",
    "fig, ax = plt.subplots(1,1,figsize = (15,5))\n",
    "# ax.plot(plot_df_TSM.index.tolist(),plot_df_TSM[\"Open\"],color='blue')\n",
    "# ax.plot(plot_df_TSM.index.tolist(),plot_df_TSM[\"Close\"],color='red')\n",
    "ax.errorbar(plot_df_TSM.index.tolist(),plot_df_TSM[\"Y_price\"],plot_df_TSM[\"Y_error\"],linewidth = 5, capsize=0,color='green',ls='none')\n",
    "ax.errorbar(plot_df_TSM.index.tolist(),plot_df_TSM[\"HL\"],plot_df_TSM[\"HL_error\"],linewidth = 1, capsize=3,color='red',ls='none')\n",
    "fig.suptitle(\"Graph of open value with time value_open = f(date_time)\")\n",
    "ax.set_xlabel(\"Date_time\")\n",
    "ax.set_ylabel(\"Open\")\n",
    "ax.set_xticks(plot_df_TSM.index.tolist()[::10]) #Without this it is too dense, with this we only display every after 60 xticks\n",
    "ax.set_xticklabels(ax.get_xticklabels(),rotation = 40, ha = 'center')# Shearing the labels to 40 degree and write it in center\n",
    "plt.show()"
   ]
  }
 ],
 "metadata": {
  "kernelspec": {
   "display_name": "ASINK_Demo",
   "language": "python",
   "name": "python3"
  },
  "language_info": {
   "codemirror_mode": {
    "name": "ipython",
    "version": 3
   },
   "file_extension": ".py",
   "mimetype": "text/x-python",
   "name": "python",
   "nbconvert_exporter": "python",
   "pygments_lexer": "ipython3",
   "version": "3.10.13"
  }
 },
 "nbformat": 4,
 "nbformat_minor": 2
}

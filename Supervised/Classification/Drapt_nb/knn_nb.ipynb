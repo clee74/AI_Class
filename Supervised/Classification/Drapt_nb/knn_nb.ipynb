{
 "cells": [
  {
   "cell_type": "code",
   "execution_count": 5,
   "metadata": {},
   "outputs": [],
   "source": [
    "import matplotlib.pyplot as plt\n",
    "\n",
    "from sklearn import datasets, metrics, svm, neighbors\n",
    "from sklearn.model_selection import train_test_split"
   ]
  },
  {
   "cell_type": "code",
   "execution_count": 3,
   "metadata": {},
   "outputs": [
    {
     "name": "stdout",
     "output_type": "stream",
     "text": [
      "1797\n",
      "1797\n"
     ]
    }
   ],
   "source": [
    "# Read data\n",
    "digits = datasets.load_digits()\n",
    "n_samples = len(digits.images)\n",
    "X = digits.images.reshape((n_samples,-1))\n",
    "y = digits.target\n",
    "# \n",
    "print(len(X))\n",
    "print(len(y))"
   ]
  },
  {
   "cell_type": "markdown",
   "metadata": {},
   "source": [
    "## Train test split to evaluate the performance of model"
   ]
  },
  {
   "cell_type": "code",
   "execution_count": 4,
   "metadata": {},
   "outputs": [],
   "source": [
    "# Split data into 80% train and 20% test subsets\n",
    "X_train,X_test,y_train,y_test = train_test_split(X,y,test_size=0.2,shuffle=False)"
   ]
  },
  {
   "cell_type": "code",
   "execution_count": 7,
   "metadata": {},
   "outputs": [],
   "source": [
    "# Create a classifier: a KNeighbors Classifier with number of neighbors = 3\n",
    "knn_clf = neighbors.KNeighborsClassifier(n_neighbors=3)"
   ]
  },
  {
   "cell_type": "code",
   "execution_count": 8,
   "metadata": {},
   "outputs": [
    {
     "data": {
      "text/html": [
       "<style>#sk-container-id-1 {color: black;background-color: white;}#sk-container-id-1 pre{padding: 0;}#sk-container-id-1 div.sk-toggleable {background-color: white;}#sk-container-id-1 label.sk-toggleable__label {cursor: pointer;display: block;width: 100%;margin-bottom: 0;padding: 0.3em;box-sizing: border-box;text-align: center;}#sk-container-id-1 label.sk-toggleable__label-arrow:before {content: \"▸\";float: left;margin-right: 0.25em;color: #696969;}#sk-container-id-1 label.sk-toggleable__label-arrow:hover:before {color: black;}#sk-container-id-1 div.sk-estimator:hover label.sk-toggleable__label-arrow:before {color: black;}#sk-container-id-1 div.sk-toggleable__content {max-height: 0;max-width: 0;overflow: hidden;text-align: left;background-color: #f0f8ff;}#sk-container-id-1 div.sk-toggleable__content pre {margin: 0.2em;color: black;border-radius: 0.25em;background-color: #f0f8ff;}#sk-container-id-1 input.sk-toggleable__control:checked~div.sk-toggleable__content {max-height: 200px;max-width: 100%;overflow: auto;}#sk-container-id-1 input.sk-toggleable__control:checked~label.sk-toggleable__label-arrow:before {content: \"▾\";}#sk-container-id-1 div.sk-estimator input.sk-toggleable__control:checked~label.sk-toggleable__label {background-color: #d4ebff;}#sk-container-id-1 div.sk-label input.sk-toggleable__control:checked~label.sk-toggleable__label {background-color: #d4ebff;}#sk-container-id-1 input.sk-hidden--visually {border: 0;clip: rect(1px 1px 1px 1px);clip: rect(1px, 1px, 1px, 1px);height: 1px;margin: -1px;overflow: hidden;padding: 0;position: absolute;width: 1px;}#sk-container-id-1 div.sk-estimator {font-family: monospace;background-color: #f0f8ff;border: 1px dotted black;border-radius: 0.25em;box-sizing: border-box;margin-bottom: 0.5em;}#sk-container-id-1 div.sk-estimator:hover {background-color: #d4ebff;}#sk-container-id-1 div.sk-parallel-item::after {content: \"\";width: 100%;border-bottom: 1px solid gray;flex-grow: 1;}#sk-container-id-1 div.sk-label:hover label.sk-toggleable__label {background-color: #d4ebff;}#sk-container-id-1 div.sk-serial::before {content: \"\";position: absolute;border-left: 1px solid gray;box-sizing: border-box;top: 0;bottom: 0;left: 50%;z-index: 0;}#sk-container-id-1 div.sk-serial {display: flex;flex-direction: column;align-items: center;background-color: white;padding-right: 0.2em;padding-left: 0.2em;position: relative;}#sk-container-id-1 div.sk-item {position: relative;z-index: 1;}#sk-container-id-1 div.sk-parallel {display: flex;align-items: stretch;justify-content: center;background-color: white;position: relative;}#sk-container-id-1 div.sk-item::before, #sk-container-id-1 div.sk-parallel-item::before {content: \"\";position: absolute;border-left: 1px solid gray;box-sizing: border-box;top: 0;bottom: 0;left: 50%;z-index: -1;}#sk-container-id-1 div.sk-parallel-item {display: flex;flex-direction: column;z-index: 1;position: relative;background-color: white;}#sk-container-id-1 div.sk-parallel-item:first-child::after {align-self: flex-end;width: 50%;}#sk-container-id-1 div.sk-parallel-item:last-child::after {align-self: flex-start;width: 50%;}#sk-container-id-1 div.sk-parallel-item:only-child::after {width: 0;}#sk-container-id-1 div.sk-dashed-wrapped {border: 1px dashed gray;margin: 0 0.4em 0.5em 0.4em;box-sizing: border-box;padding-bottom: 0.4em;background-color: white;}#sk-container-id-1 div.sk-label label {font-family: monospace;font-weight: bold;display: inline-block;line-height: 1.2em;}#sk-container-id-1 div.sk-label-container {text-align: center;}#sk-container-id-1 div.sk-container {/* jupyter's `normalize.less` sets `[hidden] { display: none; }` but bootstrap.min.css set `[hidden] { display: none !important; }` so we also need the `!important` here to be able to override the default hidden behavior on the sphinx rendered scikit-learn.org. See: https://github.com/scikit-learn/scikit-learn/issues/21755 */display: inline-block !important;position: relative;}#sk-container-id-1 div.sk-text-repr-fallback {display: none;}</style><div id=\"sk-container-id-1\" class=\"sk-top-container\"><div class=\"sk-text-repr-fallback\"><pre>KNeighborsClassifier(n_neighbors=3)</pre><b>In a Jupyter environment, please rerun this cell to show the HTML representation or trust the notebook. <br />On GitHub, the HTML representation is unable to render, please try loading this page with nbviewer.org.</b></div><div class=\"sk-container\" hidden><div class=\"sk-item\"><div class=\"sk-estimator sk-toggleable\"><input class=\"sk-toggleable__control sk-hidden--visually\" id=\"sk-estimator-id-1\" type=\"checkbox\" checked><label for=\"sk-estimator-id-1\" class=\"sk-toggleable__label sk-toggleable__label-arrow\">KNeighborsClassifier</label><div class=\"sk-toggleable__content\"><pre>KNeighborsClassifier(n_neighbors=3)</pre></div></div></div></div></div>"
      ],
      "text/plain": [
       "KNeighborsClassifier(n_neighbors=3)"
      ]
     },
     "execution_count": 8,
     "metadata": {},
     "output_type": "execute_result"
    }
   ],
   "source": [
    "# Training modek by fitting data to model (one step training)\n",
    "knn_clf.fit(X_train,y_train)"
   ]
  },
  {
   "cell_type": "code",
   "execution_count": 9,
   "metadata": {},
   "outputs": [],
   "source": [
    "# Predict the value of the digit on the test subset\n",
    "predicted = knn_clf.predict(X_test)"
   ]
  },
  {
   "cell_type": "code",
   "execution_count": 10,
   "metadata": {},
   "outputs": [
    {
     "data": {
      "image/png": "[encoded data removed]",
      "text/plain": [
       "<Figure size 1000x400 with 4 Axes>"
      ]
     },
     "metadata": {},
     "output_type": "display_data"
    }
   ],
   "source": [
    "# Visualize the first 4 test samples and show their predicted digit value in the title.\n",
    "_,axes = plt.subplots(nrows = 1,ncols = 4, figsize= (10,4))\n",
    "for ax, image, prediction in zip(axes,X_test,predicted):\n",
    "    ax.set_axis_off()\n",
    "    image = image.reshape((8,8))\n",
    "    ax.imshow(image, cmap = plt.cm.gray_r, interpolation = \"nearest\")\n",
    "    ax.set_title(f\"Prediction: {prediction}\")"
   ]
  },
  {
   "cell_type": "code",
   "execution_count": 12,
   "metadata": {},
   "outputs": [
    {
     "name": "stdout",
     "output_type": "stream",
     "text": [
      "Classification report for classifier KNeighborsClassifier(n_neighbors=3):\n",
      "              precision    recall  f1-score   support\n",
      "\n",
      "           0       1.00      1.00      1.00        35\n",
      "           1       0.95      1.00      0.97        36\n",
      "           2       0.97      1.00      0.99        35\n",
      "           3       0.97      0.89      0.93        37\n",
      "           4       1.00      0.92      0.96        37\n",
      "           5       0.93      1.00      0.96        37\n",
      "           6       1.00      1.00      1.00        37\n",
      "           7       0.97      1.00      0.99        36\n",
      "           8       0.94      0.94      0.94        33\n",
      "           9       0.94      0.92      0.93        37\n",
      "\n",
      "    accuracy                           0.97       360\n",
      "   macro avg       0.97      0.97      0.97       360\n",
      "weighted avg       0.97      0.97      0.97       360\n",
      "\n",
      "\n"
     ]
    }
   ],
   "source": [
    "# Classification report:\n",
    "print(f\"Classification report for classifier {knn_clf}:\\n\"\n",
    "      f\"{metrics.classification_report(y_test,predicted)}\\n\")"
   ]
  },
  {
   "cell_type": "code",
   "execution_count": 13,
   "metadata": {},
   "outputs": [
    {
     "name": "stdout",
     "output_type": "stream",
     "text": [
      "Confusion matrix:\n",
      "[[35  0  0  0  0  0  0  0  0  0]\n",
      " [ 0 36  0  0  0  0  0  0  0  0]\n",
      " [ 0  0 35  0  0  0  0  0  0  0]\n",
      " [ 0  0  1 33  0  1  0  1  1  0]\n",
      " [ 0  0  0  0 34  0  0  0  1  2]\n",
      " [ 0  0  0  0  0 37  0  0  0  0]\n",
      " [ 0  0  0  0  0  0 37  0  0  0]\n",
      " [ 0  0  0  0  0  0  0 36  0  0]\n",
      " [ 0  2  0  0  0  0  0  0 31  0]\n",
      " [ 0  0  0  1  0  2  0  0  0 34]]\n"
     ]
    },
    {
     "data": {
      "image/png": "[encoded data removed]",
      "text/plain": [
       "<Figure size 640x480 with 2 Axes>"
      ]
     },
     "metadata": {},
     "output_type": "display_data"
    }
   ],
   "source": [
    "# Confusion matrix\n",
    "disp = metrics.ConfusionMatrixDisplay.from_predictions(y_test,predicted)\n",
    "disp.figure_.suptitle(\"Confusion Matrix\")\n",
    "print(f\"Confusion matrix:\\n{disp.confusion_matrix}\")\n",
    "plt.show()"
   ]
  },
  {
   "cell_type": "code",
   "execution_count": 14,
   "metadata": {},
   "outputs": [
    {
     "name": "stdout",
     "output_type": "stream",
     "text": [
      "Classification report rebuilt from confusion matrix:\n",
      "              precision    recall  f1-score   support\n",
      "\n",
      "           0       1.00      1.00      1.00        35\n",
      "           1       0.95      1.00      0.97        36\n",
      "           2       0.97      1.00      0.99        35\n",
      "           3       0.97      0.89      0.93        37\n",
      "           4       1.00      0.92      0.96        37\n",
      "           5       0.93      1.00      0.96        37\n",
      "           6       1.00      1.00      1.00        37\n",
      "           7       0.97      1.00      0.99        36\n",
      "           8       0.94      0.94      0.94        33\n",
      "           9       0.94      0.92      0.93        37\n",
      "\n",
      "    accuracy                           0.97       360\n",
      "   macro avg       0.97      0.97      0.97       360\n",
      "weighted avg       0.97      0.97      0.97       360\n",
      "\n",
      "\n"
     ]
    }
   ],
   "source": [
    "# The ground truth and predicted lists\n",
    "y_true = []\n",
    "y_pred = []\n",
    "cm = disp.confusion_matrix\n",
    "\n",
    "# For each cell in the confusion matrix, add the corresponding ground truths\n",
    "# and predictions to the lists\n",
    "for gt in range(len(cm)):\n",
    "    for pred in range(len(cm)):\n",
    "        y_true += [gt] * cm[gt][pred]\n",
    "        y_pred += [pred] * cm[gt][pred]\n",
    "\n",
    "print(\n",
    "    \"Classification report rebuilt from confusion matrix:\\n\"\n",
    "    f\"{metrics.classification_report(y_true, y_pred)}\\n\"\n",
    ")"
   ]
  },
  {
   "cell_type": "markdown",
   "metadata": {},
   "source": [
    "# Scale data"
   ]
  },
  {
   "cell_type": "code",
   "execution_count": 17,
   "metadata": {},
   "outputs": [
    {
     "name": "stdout",
     "output_type": "stream",
     "text": [
      "[0.00000000e+00 2.86708420e-01 5.17536534e+00 1.17800974e+01\n",
      " 1.20090466e+01 5.92414753e+00 1.43354210e+00 1.44050104e-01\n",
      " 6.95894224e-03 1.98121086e+00 1.03931802e+01 1.18872651e+01\n",
      " 1.02825331e+01 8.34307585e+00 1.89979123e+00 1.18997912e-01\n",
      " 3.47947112e-03 2.66457898e+00 9.89004871e+00 6.81210856e+00\n",
      " 7.01391788e+00 7.77244259e+00 1.83646486e+00 5.77592206e-02\n",
      " 1.39178845e-03 2.50452331e+00 9.10995129e+00 8.72025052e+00\n",
      " 1.00034795e+01 7.47529576e+00 2.29366736e+00 2.78357690e-03\n",
      " 0.00000000e+00 2.27696590e+00 7.66666667e+00 9.03270703e+00\n",
      " 1.03048017e+01 8.72303410e+00 2.85664579e+00 0.00000000e+00\n",
      " 9.04662491e-03 1.56367432e+00 6.87821851e+00 7.03897008e+00\n",
      " 7.57411273e+00 8.16423104e+00 3.52887961e+00 3.13152401e-02\n",
      " 9.04662491e-03 7.22338205e-01 7.54975644e+00 9.42310369e+00\n",
      " 9.21572721e+00 8.61238692e+00 3.80375783e+00 2.35212248e-01\n",
      " 6.95894224e-04 2.63048017e-01 5.53653445e+00 1.21085595e+01\n",
      " 1.19965205e+01 7.02296451e+00 2.29714683e+00 4.41196938e-01]\n"
     ]
    }
   ],
   "source": [
    "#Standard scaler:\n",
    "from sklearn.preprocessing import StandardScaler, MinMaxScaler\n",
    "s_scaler = StandardScaler().fit(X_train)\n",
    "print(s_scaler.mean_)\n",
    "X_train_scaled = s_scaler.transform(X_train)"
   ]
  },
  {
   "cell_type": "markdown",
   "metadata": {},
   "source": [
    "# Classification with KNN\n"
   ]
  },
  {
   "cell_type": "code",
   "execution_count": 15,
   "metadata": {},
   "outputs": [],
   "source": [
    "from sklearn.model_selection import KFold, cross_val_score\n"
   ]
  },
  {
   "cell_type": "code",
   "execution_count": 16,
   "metadata": {},
   "outputs": [],
   "source": [
    "def evaluate_KNN(X,y,kfold,n_neighbors):\n",
    "    knn = neighbors.KNeighborsClassifier(n_neighbors=n_neighbors)\n",
    "    return 1 - cross_val_score(knn,X,y,cv = kfold).mean()"
   ]
  },
  {
   "cell_type": "code",
   "execution_count": 18,
   "metadata": {},
   "outputs": [
    {
     "data": {
      "text/plain": [
       "Text(0.5, 0, 'Number of neighbors')"
      ]
     },
     "execution_count": 18,
     "metadata": {},
     "output_type": "execute_result"
    },
    {
     "data": {
      "image/png": "[encoded data removed]",
      "text/plain": [
       "<Figure size 640x480 with 1 Axes>"
      ]
     },
     "metadata": {},
     "output_type": "display_data"
    }
   ],
   "source": [
    "error_holder = []\n",
    "for n in range(3,100,6):\n",
    "    error_holder.append(evaluate_KNN(X_train_scaled,y_train,10,n_neighbors=n))\n",
    "# Implement the plot as described in the task\n",
    "plot2 = plt.figure()\n",
    "ax.plot(range(3,100,6),error_holder,marker = '^')\n",
    "plt.title(\"Evaluation of mean error wrt n_neighbors\")\n",
    "ax.set_ylabel(\"mean error\")\n",
    "ax.set_xlabel(\"Number of neighbors\")"
   ]
  }
 ],
 "metadata": {
  "kernelspec": {
   "display_name": "ASinkENV1",
   "language": "python",
   "name": "python3"
  },
  "language_info": {
   "codemirror_mode": {
    "name": "ipython",
    "version": 3
   },
   "file_extension": ".py",
   "mimetype": "text/x-python",
   "name": "python",
   "nbconvert_exporter": "python",
   "pygments_lexer": "ipython3",
   "version": "3.10.13"
  }
 },
 "nbformat": 4,
 "nbformat_minor": 2
}

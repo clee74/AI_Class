{
 "cells": [
  {
   "cell_type": "code",
   "execution_count": 4,
   "metadata": {},
   "outputs": [],
   "source": [
    "from pandas_datareader import data\n",
    "import pandas as pd\n",
    "from datetime import datetime\n",
    "from dateutil.relativedelta import relativedelta"
   ]
  },
  {
   "cell_type": "code",
   "execution_count": 7,
   "metadata": {},
   "outputs": [],
   "source": [
    "import requests\n",
    "from bs4 import BeautifulSoup"
   ]
  },
  {
   "cell_type": "code",
   "execution_count": 8,
   "metadata": {},
   "outputs": [],
   "source": [
    "html = requests.get('https://companiesmarketcap.com/tech/largest-tech-companies-by-market-cap/').text\n",
    "soup = BeautifulSoup(html, 'html.parser')\n",
    "companyName = [x.get_text(strip=True) for x in soup.find_all('div', {'class': 'company-name'})][:10]\n",
    "companyCode = [x.get_text(strip=True) for x in soup.find_all('div', {'class': 'company-code'})][:10]"
   ]
  },
  {
   "cell_type": "code",
   "execution_count": 9,
   "metadata": {},
   "outputs": [
    {
     "name": "stdout",
     "output_type": "stream",
     "text": [
      "['AAPL', 'MSFT', 'GOOG', 'AMZN', 'NVDA', 'META', 'TSLA', 'TSM', 'TCEHY', 'AVGO']\n"
     ]
    }
   ],
   "source": [
    "print(companyCode)"
   ]
  },
  {
   "cell_type": "code",
   "execution_count": 10,
   "metadata": {},
   "outputs": [
    {
     "name": "stdout",
     "output_type": "stream",
     "text": [
      "['Apple', 'Microsoft', 'Alphabet (Google)', 'Amazon', 'NVIDIA', 'Meta Platforms (Facebook)', 'Tesla', 'TSMC', 'Tencent', 'Broadcom']\n"
     ]
    }
   ],
   "source": [
    "print(companyName)"
   ]
  },
  {
   "cell_type": "code",
   "execution_count": 16,
   "metadata": {},
   "outputs": [
    {
     "name": "stdout",
     "output_type": "stream",
     "text": [
      "2018-11-01 18:23:16.692970\n",
      "2023-11-01 18:23:16.693434\n"
     ]
    }
   ],
   "source": [
    "now = datetime.now()\n",
    "data_source = 'yahoo'\n",
    "start_date = now.today() - relativedelta(years  = 5)\n",
    "end_date = now.today()\n",
    "print(start_date)\n",
    "print(end_date)\n",
    "# df_TSM = data.DataReader('AAPL', data_source,start='2019-09-10', end='2019-10-09')\n"
   ]
  },
  {
   "cell_type": "code",
   "execution_count": 18,
   "metadata": {},
   "outputs": [
    {
     "name": "stdout",
     "output_type": "stream",
     "text": [
      "[*********************100%%**********************]  1 of 1 completed\n"
     ]
    }
   ],
   "source": [
    "import yfinance \n",
    "df_TSM = yfinance.download(\"TSM\",start=start_date,end=end_date)"
   ]
  },
  {
   "cell_type": "code",
   "execution_count": 20,
   "metadata": {},
   "outputs": [
    {
     "data": {
      "text/html": [
       "<div>\n",
       "<style scoped>\n",
       "    .dataframe tbody tr th:only-of-type {\n",
       "        vertical-align: middle;\n",
       "    }\n",
       "\n",
       "    .dataframe tbody tr th {\n",
       "        vertical-align: top;\n",
       "    }\n",
       "\n",
       "    .dataframe thead th {\n",
       "        text-align: right;\n",
       "    }\n",
       "</style>\n",
       "<table border=\"1\" class=\"dataframe\">\n",
       "  <thead>\n",
       "    <tr style=\"text-align: right;\">\n",
       "      <th></th>\n",
       "      <th>Open</th>\n",
       "      <th>High</th>\n",
       "      <th>Low</th>\n",
       "      <th>Close</th>\n",
       "      <th>Adj Close</th>\n",
       "      <th>Volume</th>\n",
       "    </tr>\n",
       "    <tr>\n",
       "      <th>Date</th>\n",
       "      <th></th>\n",
       "      <th></th>\n",
       "      <th></th>\n",
       "      <th></th>\n",
       "      <th></th>\n",
       "      <th></th>\n",
       "    </tr>\n",
       "  </thead>\n",
       "  <tbody>\n",
       "    <tr>\n",
       "      <th>2023-10-25</th>\n",
       "      <td>90.800003</td>\n",
       "      <td>90.849998</td>\n",
       "      <td>86.680000</td>\n",
       "      <td>87.639999</td>\n",
       "      <td>87.639999</td>\n",
       "      <td>13027100</td>\n",
       "    </tr>\n",
       "    <tr>\n",
       "      <th>2023-10-26</th>\n",
       "      <td>87.120003</td>\n",
       "      <td>88.139999</td>\n",
       "      <td>86.540001</td>\n",
       "      <td>87.449997</td>\n",
       "      <td>87.449997</td>\n",
       "      <td>9377300</td>\n",
       "    </tr>\n",
       "    <tr>\n",
       "      <th>2023-10-27</th>\n",
       "      <td>87.540001</td>\n",
       "      <td>87.779999</td>\n",
       "      <td>85.889999</td>\n",
       "      <td>85.989998</td>\n",
       "      <td>85.989998</td>\n",
       "      <td>12478300</td>\n",
       "    </tr>\n",
       "    <tr>\n",
       "      <th>2023-10-30</th>\n",
       "      <td>87.309998</td>\n",
       "      <td>88.300003</td>\n",
       "      <td>86.000000</td>\n",
       "      <td>86.059998</td>\n",
       "      <td>86.059998</td>\n",
       "      <td>9785500</td>\n",
       "    </tr>\n",
       "    <tr>\n",
       "      <th>2023-10-31</th>\n",
       "      <td>86.150002</td>\n",
       "      <td>86.430000</td>\n",
       "      <td>84.949997</td>\n",
       "      <td>86.309998</td>\n",
       "      <td>86.309998</td>\n",
       "      <td>9001300</td>\n",
       "    </tr>\n",
       "  </tbody>\n",
       "</table>\n",
       "</div>"
      ],
      "text/plain": [
       "                 Open       High        Low      Close  Adj Close    Volume\n",
       "Date                                                                       \n",
       "2023-10-25  90.800003  90.849998  86.680000  87.639999  87.639999  13027100\n",
       "2023-10-26  87.120003  88.139999  86.540001  87.449997  87.449997   9377300\n",
       "2023-10-27  87.540001  87.779999  85.889999  85.989998  85.989998  12478300\n",
       "2023-10-30  87.309998  88.300003  86.000000  86.059998  86.059998   9785500\n",
       "2023-10-31  86.150002  86.430000  84.949997  86.309998  86.309998   9001300"
      ]
     },
     "execution_count": 20,
     "metadata": {},
     "output_type": "execute_result"
    }
   ],
   "source": [
    "df_TSM.tail()"
   ]
  }
 ],
 "metadata": {
  "kernelspec": {
   "display_name": "ASINK_Demo",
   "language": "python",
   "name": "python3"
  },
  "language_info": {
   "codemirror_mode": {
    "name": "ipython",
    "version": 3
   },
   "file_extension": ".py",
   "mimetype": "text/x-python",
   "name": "python",
   "nbconvert_exporter": "python",
   "pygments_lexer": "ipython3",
   "version": "3.10.13"
  }
 },
 "nbformat": 4,
 "nbformat_minor": 2
}

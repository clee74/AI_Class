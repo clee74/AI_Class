{
 "cells": [
  {
   "cell_type": "markdown",
   "metadata": {},
   "source": [
    "# Demo 0: This demo is just a simple working on data (Simple statistic, Visualize,...)\n",
    "In this demo we will work with a builtin dataset: It is digit images of size $8x8$\n",
    "\n",
    "Note:\n",
    "-   When we want to work with our own data we have to some following work:\n",
    "    -   How to read dataset make it become model can read (numpy.array, or torch.Tensor,...)\n",
    "    -   Preprocessing\n",
    "    -   ..."
   ]
  },
  {
   "cell_type": "code",
   "execution_count": 30,
   "metadata": {},
   "outputs": [],
   "source": [
    "from sklearn import datasets"
   ]
  },
  {
   "cell_type": "code",
   "execution_count": 31,
   "metadata": {},
   "outputs": [],
   "source": [
    "# Load data\n",
    "digits = datasets.load_digits()"
   ]
  },
  {
   "cell_type": "markdown",
   "metadata": {},
   "source": [
    "## Some metadata information:\n",
    "-   This is dataset of digit images which has size of $8\\times8$."
   ]
  },
  {
   "cell_type": "code",
   "execution_count": 32,
   "metadata": {},
   "outputs": [
    {
     "name": "stdout",
     "output_type": "stream",
     "text": [
      "Total number of sample in this dataset:  1797\n",
      "Label of first sample:  0\n"
     ]
    }
   ],
   "source": [
    "## Total number of sample in this \n",
    "n_samples = len(digits.images)\n",
    "print(\"Total number of sample in this dataset: \", n_samples)\n",
    "## Label type:\n",
    "print(\"Label of first sample: \", digits.target[0])"
   ]
  },
  {
   "cell_type": "code",
   "execution_count": 33,
   "metadata": {},
   "outputs": [
    {
     "name": "stdout",
     "output_type": "stream",
     "text": [
      "There are total 10 classes in our dataset\n",
      "They are:  [0 1 2 3 4 5 6 7 8 9]\n"
     ]
    }
   ],
   "source": [
    "## Total number of class\n",
    "import numpy as np\n",
    "array_target = np.array(digits.target)\n",
    "nb_classes = len(np.unique(array_target))\n",
    "print(f\"There are total {nb_classes} classes in our dataset\")\n",
    "print(\"They are: \", np.unique(array_target))\n"
   ]
  },
  {
   "cell_type": "code",
   "execution_count": 34,
   "metadata": {},
   "outputs": [
    {
     "data": {
      "image/png": "[encoded data removed]",
      "text/plain": [
       "<Figure size 500x500 with 1 Axes>"
      ]
     },
     "metadata": {},
     "output_type": "display_data"
    }
   ],
   "source": [
    "## Visual bar plot of number occurrences of each class:\n",
    "import matplotlib.pyplot as plt\n",
    "statistic_class = np.unique(array_target,return_counts=True)\n",
    "categoricalClasses = [f'{C}' for C in statistic_class[0]]\n",
    "fig,ax = plt.subplots(1,1,figsize=(5,5))\n",
    "ax.bar(x = categoricalClasses, height = statistic_class[1],width = 0.8)\n",
    "for i in range(nb_classes):\n",
    "    ax.text(categoricalClasses[i],statistic_class[1][i],\n",
    "            str(statistic_class[1][i]),ha='center',va = 'bottom')"
   ]
  },
  {
   "cell_type": "code",
   "execution_count": 35,
   "metadata": {},
   "outputs": [],
   "source": [
    "X_images = digits.images\n",
    "y_labels = digits.target"
   ]
  },
  {
   "cell_type": "code",
   "execution_count": 36,
   "metadata": {},
   "outputs": [
    {
     "data": {
      "image/png": "[encoded data removed]",
      "text/plain": [
       "<Figure size 1500x600 with 10 Axes>"
      ]
     },
     "metadata": {},
     "output_type": "display_data"
    }
   ],
   "source": [
    "# Visualize first ten sample with label\n",
    "_,axes = plt.subplots(nrows = 1,\n",
    "                     ncols = 10,\n",
    "                     figsize = (15,6))\n",
    "for ax, image, label in zip(axes,X_images,y_labels):\n",
    "    ax.set_axis_off()\n",
    "    ax.imshow(image, cmap = plt.cm.gray_r, interpolation = \"nearest\")\n",
    "    ax.set_title(f\"Label: {label}\")"
   ]
  },
  {
   "cell_type": "markdown",
   "metadata": {},
   "source": [
    "In the previous plot it may not show each class with one sample."
   ]
  },
  {
   "cell_type": "code",
   "execution_count": 37,
   "metadata": {},
   "outputs": [],
   "source": [
    "X_images = np.array(X_images)\n",
    "y_labels = np.array(y_labels)"
   ]
  },
  {
   "cell_type": "code",
   "execution_count": 38,
   "metadata": {},
   "outputs": [
    {
     "data": {
      "image/png": "[encoded data removed]",
      "text/plain": [
       "<Figure size 1500x600 with 10 Axes>"
      ]
     },
     "metadata": {},
     "output_type": "display_data"
    }
   ],
   "source": [
    "# Visualize one sample of each class\n",
    "_, indices = np.unique(y_labels,return_index=True) # get one index of each class\n",
    "# Plot\n",
    "_, axes = plt.subplots(nrows = 1,\n",
    "                       ncols = len(indices),\n",
    "                       figsize = (15,6))\n",
    "for i in range(len(indices)):\n",
    "    index = indices[i]\n",
    "    axes[i].set_axis_off()\n",
    "    axes[i].imshow(X_images[index], cmap = plt.cm.gray_r, interpolation= \"nearest\")\n",
    "    axes[i].set_title(f\"Label: {y_labels[index]}\")\n",
    "    \n",
    "    \n"
   ]
  },
  {
   "cell_type": "markdown",
   "metadata": {},
   "source": [
    "# Train test split dataset"
   ]
  },
  {
   "cell_type": "code",
   "execution_count": 39,
   "metadata": {},
   "outputs": [],
   "source": [
    "from sklearn.model_selection import train_test_split"
   ]
  },
  {
   "cell_type": "code",
   "execution_count": null,
   "metadata": {},
   "outputs": [],
   "source": [
    "X_train,X_test,y_train,y_test = train_test_split(X_images,\n",
    "                                                 y_labels,\n",
    "                                                 test_size = 0.2,\n",
    "                                                 shuffle = False)"
   ]
  },
  {
   "cell_type": "markdown",
   "metadata": {},
   "source": [
    "# Homework?\n",
    "-   Repeat what we have done on whole dataset for each subset (train dataset and test dataset)\n",
    "-   ..."
   ]
  }
 ],
 "metadata": {
  "kernelspec": {
   "display_name": "AsinkENV1",
   "language": "python",
   "name": "python3"
  },
  "language_info": {
   "codemirror_mode": {
    "name": "ipython",
    "version": 3
   },
   "file_extension": ".py",
   "mimetype": "text/x-python",
   "name": "python",
   "nbconvert_exporter": "python",
   "pygments_lexer": "ipython3",
   "version": "3.10.13"
  }
 },
 "nbformat": 4,
 "nbformat_minor": 2
}
